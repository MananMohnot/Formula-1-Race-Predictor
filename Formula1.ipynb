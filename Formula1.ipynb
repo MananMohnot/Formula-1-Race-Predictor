{
 "cells": [
  {
   "cell_type": "markdown",
   "metadata": {},
   "source": [
    "Formula 1 exploration"
   ]
  },
  {
   "cell_type": "code",
   "execution_count": 25,
   "metadata": {},
   "outputs": [],
   "source": [
    "import numpy as np \n",
    "import pandas as pd\n",
    "import datetime as dt\n",
    "import matplotlib.pyplot as plt\n",
    "import seaborn as sns\n",
    "import plotly.graph_objects as go\n",
    "import plotly.express as px\n",
    "from sklearn.metrics import confusion_matrix\n"
   ]
  },
  {
   "cell_type": "code",
   "execution_count": 3,
   "metadata": {},
   "outputs": [
    {
     "name": "stdout",
     "output_type": "stream",
     "text": [
      "data\\circuits.csv\n",
      "data\\constructors.csv\n",
      "data\\constructor_results.csv\n",
      "data\\constructor_standings.csv\n",
      "data\\drivers.csv\n",
      "data\\driver_standings.csv\n",
      "data\\final_merge.csv\n",
      "data\\lap_times.csv\n",
      "data\\pit_stops.csv\n",
      "data\\qualifying.csv\n",
      "data\\races.csv\n",
      "data\\results.csv\n",
      "data\\seasons.csv\n",
      "data\\sprint_results.csv\n",
      "data\\status.csv\n"
     ]
    }
   ],
   "source": [
    "import os\n",
    "fnames = []\n",
    "fpaths = []\n",
    "for dirname, _ , filenames in os.walk('data'):\n",
    "    for filename in filenames:\n",
    "        fnames.append(filename.split('.')[0])\n",
    "        fpaths.append(os.path.join(dirname, filename))\n",
    "        print(os.path.join(dirname, filename))"
   ]
  },
  {
   "cell_type": "code",
   "execution_count": 4,
   "metadata": {},
   "outputs": [],
   "source": [
    "fpath = 'data/'\n",
    "circuits = pd.read_csv(f'{fpath}circuits.csv', index_col=0, na_values=r'\\N')\n",
    "constructorResults = pd.read_csv(f'{fpath}constructor_results.csv', index_col=0, na_values=r'\\N')\n",
    "constructors = pd.read_csv(f'{fpath}constructors.csv', index_col=0, na_values=r'\\N')\n",
    "constructorStandings = pd.read_csv(f'{fpath}constructor_standings.csv', index_col=0, na_values=r'\\N')\n",
    "drivers = pd.read_csv(f'{fpath}drivers.csv', index_col=0, na_values=r'\\N')\n",
    "driverStandings = pd.read_csv(f'{fpath}driver_standings.csv', index_col=0, na_values=r'\\N')\n",
    "lapTimes = pd.read_csv(f'{fpath}lap_times.csv')\n",
    "pitStops = pd.read_csv(f'{fpath}pit_stops.csv')\n",
    "qualifying = pd.read_csv(f'{fpath}qualifying.csv', index_col=0, na_values=r'\\N')\n",
    "races = pd.read_csv(f'{fpath}races.csv', na_values=r'\\N')\n",
    "results = pd.read_csv(f'{fpath}results.csv', index_col=0, na_values=r'\\N')\n",
    "seasons = pd.read_csv(f'{fpath}seasons.csv', index_col=0, na_values=r'\\N')\n",
    "status = pd.read_csv(f'{fpath}status.csv', index_col=0, na_values=r'\\N')\n",
    "\n",
    "races.drop(['fp1_date','fp3_date','fp2_date','fp1_time','fp3_time','fp2_time','quali_date','quali_time','sprint_date','sprint_time'], axis = 1, inplace = True)\n",
    "circuits = circuits.rename(columns={'name':'circuitName','location':'circuitLocation','country':'circuitCountry','url':'circuitUrl'})\n",
    "drivers = drivers.rename(columns={'nationality':'driverNationality','url':'driverUrl'})\n",
    "drivers['driverName'] = drivers['forename']+' '+drivers['surname']\n",
    "qualifying.rename(columns = {'grid_position': 'grid'}, inplace = True)\n",
    "constructors = constructors.rename(columns={'name':'constructorName','nationality':'constructorNationality','url':'constructorUrl'})\n",
    "races.set_index('raceId',inplace=True)\n",
    "races['date'] = races['date'].apply(lambda x: dt.datetime.strptime(x,'%Y-%m-%d'))\n",
    "pitStops = pitStops.rename(columns={'time':'pitTime'})\n",
    "pitStops['seconds'] = pitStops['milliseconds'].apply(lambda x: x/1000)\n",
    "results['seconds'] = results['milliseconds'].apply(lambda x: x/1000)"
   ]
  },
  {
   "cell_type": "code",
   "execution_count": 5,
   "metadata": {},
   "outputs": [],
   "source": [
    "resultsAnalysis = pd.merge(results,races,left_on='raceId',right_on='raceId',how='left')\n",
    "resultsAnalysis = pd.merge(resultsAnalysis,circuits,left_on='circuitId',right_index=True,how='left')\n",
    "resultsAnalysis = pd.merge(resultsAnalysis,constructors,left_on='constructorId',right_index=True,how='left')\n",
    "resultsAnalysis = pd.merge(resultsAnalysis,drivers,left_on='driverId',right_index=True,how='left')\n",
    "resultsAnalysis.head()\n",
    "constructor_color_map = {\n",
    "    'Toro Rosso':'#0000FF',\n",
    "    'Mercedes':'#6CD3BF',\n",
    "    'Red Bull':'#1E5BC6',\n",
    "    'Ferrari':'#ED1C24',\n",
    "    'Williams':'#37BEDD',\n",
    "    'Force India':'#FF80C7',\n",
    "    'Virgin':'#c82e37',\n",
    "    'Renault':'#FFD800',\n",
    "    'McLaren':'#F58020',\n",
    "    'Sauber':'#006EFF',\n",
    "    'Lotus':'#FFB800',\n",
    "    'HRT':'#b2945e',\n",
    "    'Caterham':'#0b361f',\n",
    "    'Lotus F1':'#FFB800',\n",
    "    'Marussia':'#6E0000',\n",
    "    'Manor Marussia':'#6E0000',\n",
    "    'Haas F1 Team':'#B6BABD',\n",
    "    'Racing Point':'#F596C8',\n",
    "    'Aston Martin':'#2D826D',\n",
    "    'Alfa Romeo':'#B12039',\n",
    "    'AlphaTauri':'#4E7C9B',\n",
    "    'Alpine F1 Team':'#2293D1'\n",
    "}"
   ]
  },
  {
   "cell_type": "code",
   "execution_count": null,
   "metadata": {},
   "outputs": [],
   "source": []
  },
  {
   "cell_type": "code",
   "execution_count": 6,
   "metadata": {},
   "outputs": [
    {
     "data": {
      "text/html": [
       "<div>\n",
       "<style scoped>\n",
       "    .dataframe tbody tr th:only-of-type {\n",
       "        vertical-align: middle;\n",
       "    }\n",
       "\n",
       "    .dataframe tbody tr th {\n",
       "        vertical-align: top;\n",
       "    }\n",
       "\n",
       "    .dataframe thead th {\n",
       "        text-align: right;\n",
       "    }\n",
       "</style>\n",
       "<table border=\"1\" class=\"dataframe\">\n",
       "  <thead>\n",
       "    <tr style=\"text-align: right;\">\n",
       "      <th></th>\n",
       "      <th>raceId</th>\n",
       "      <th>driverId</th>\n",
       "      <th>lap</th>\n",
       "      <th>position_x</th>\n",
       "      <th>time_x_x</th>\n",
       "      <th>milliseconds_x</th>\n",
       "      <th>year</th>\n",
       "      <th>round</th>\n",
       "      <th>circuitId</th>\n",
       "      <th>name</th>\n",
       "      <th>...</th>\n",
       "      <th>constructorUrl</th>\n",
       "      <th>driverRef</th>\n",
       "      <th>number_y</th>\n",
       "      <th>code</th>\n",
       "      <th>forename</th>\n",
       "      <th>surname</th>\n",
       "      <th>dob</th>\n",
       "      <th>driverNationality</th>\n",
       "      <th>driverUrl</th>\n",
       "      <th>driverName</th>\n",
       "    </tr>\n",
       "  </thead>\n",
       "  <tbody>\n",
       "    <tr>\n",
       "      <th>0</th>\n",
       "      <td>841</td>\n",
       "      <td>20</td>\n",
       "      <td>1</td>\n",
       "      <td>1</td>\n",
       "      <td>1:38.109</td>\n",
       "      <td>98109</td>\n",
       "      <td>2011</td>\n",
       "      <td>1</td>\n",
       "      <td>1</td>\n",
       "      <td>Australian Grand Prix</td>\n",
       "      <td>...</td>\n",
       "      <td>http://en.wikipedia.org/wiki/Red_Bull_Racing</td>\n",
       "      <td>vettel</td>\n",
       "      <td>5.0</td>\n",
       "      <td>VET</td>\n",
       "      <td>Sebastian</td>\n",
       "      <td>Vettel</td>\n",
       "      <td>1987-07-03</td>\n",
       "      <td>German</td>\n",
       "      <td>http://en.wikipedia.org/wiki/Sebastian_Vettel</td>\n",
       "      <td>Sebastian Vettel</td>\n",
       "    </tr>\n",
       "    <tr>\n",
       "      <th>1</th>\n",
       "      <td>841</td>\n",
       "      <td>20</td>\n",
       "      <td>2</td>\n",
       "      <td>1</td>\n",
       "      <td>1:33.006</td>\n",
       "      <td>93006</td>\n",
       "      <td>2011</td>\n",
       "      <td>1</td>\n",
       "      <td>1</td>\n",
       "      <td>Australian Grand Prix</td>\n",
       "      <td>...</td>\n",
       "      <td>http://en.wikipedia.org/wiki/Red_Bull_Racing</td>\n",
       "      <td>vettel</td>\n",
       "      <td>5.0</td>\n",
       "      <td>VET</td>\n",
       "      <td>Sebastian</td>\n",
       "      <td>Vettel</td>\n",
       "      <td>1987-07-03</td>\n",
       "      <td>German</td>\n",
       "      <td>http://en.wikipedia.org/wiki/Sebastian_Vettel</td>\n",
       "      <td>Sebastian Vettel</td>\n",
       "    </tr>\n",
       "    <tr>\n",
       "      <th>2</th>\n",
       "      <td>841</td>\n",
       "      <td>20</td>\n",
       "      <td>3</td>\n",
       "      <td>1</td>\n",
       "      <td>1:32.713</td>\n",
       "      <td>92713</td>\n",
       "      <td>2011</td>\n",
       "      <td>1</td>\n",
       "      <td>1</td>\n",
       "      <td>Australian Grand Prix</td>\n",
       "      <td>...</td>\n",
       "      <td>http://en.wikipedia.org/wiki/Red_Bull_Racing</td>\n",
       "      <td>vettel</td>\n",
       "      <td>5.0</td>\n",
       "      <td>VET</td>\n",
       "      <td>Sebastian</td>\n",
       "      <td>Vettel</td>\n",
       "      <td>1987-07-03</td>\n",
       "      <td>German</td>\n",
       "      <td>http://en.wikipedia.org/wiki/Sebastian_Vettel</td>\n",
       "      <td>Sebastian Vettel</td>\n",
       "    </tr>\n",
       "    <tr>\n",
       "      <th>3</th>\n",
       "      <td>841</td>\n",
       "      <td>20</td>\n",
       "      <td>4</td>\n",
       "      <td>1</td>\n",
       "      <td>1:32.803</td>\n",
       "      <td>92803</td>\n",
       "      <td>2011</td>\n",
       "      <td>1</td>\n",
       "      <td>1</td>\n",
       "      <td>Australian Grand Prix</td>\n",
       "      <td>...</td>\n",
       "      <td>http://en.wikipedia.org/wiki/Red_Bull_Racing</td>\n",
       "      <td>vettel</td>\n",
       "      <td>5.0</td>\n",
       "      <td>VET</td>\n",
       "      <td>Sebastian</td>\n",
       "      <td>Vettel</td>\n",
       "      <td>1987-07-03</td>\n",
       "      <td>German</td>\n",
       "      <td>http://en.wikipedia.org/wiki/Sebastian_Vettel</td>\n",
       "      <td>Sebastian Vettel</td>\n",
       "    </tr>\n",
       "    <tr>\n",
       "      <th>4</th>\n",
       "      <td>841</td>\n",
       "      <td>20</td>\n",
       "      <td>5</td>\n",
       "      <td>1</td>\n",
       "      <td>1:32.342</td>\n",
       "      <td>92342</td>\n",
       "      <td>2011</td>\n",
       "      <td>1</td>\n",
       "      <td>1</td>\n",
       "      <td>Australian Grand Prix</td>\n",
       "      <td>...</td>\n",
       "      <td>http://en.wikipedia.org/wiki/Red_Bull_Racing</td>\n",
       "      <td>vettel</td>\n",
       "      <td>5.0</td>\n",
       "      <td>VET</td>\n",
       "      <td>Sebastian</td>\n",
       "      <td>Vettel</td>\n",
       "      <td>1987-07-03</td>\n",
       "      <td>German</td>\n",
       "      <td>http://en.wikipedia.org/wiki/Sebastian_Vettel</td>\n",
       "      <td>Sebastian Vettel</td>\n",
       "    </tr>\n",
       "  </tbody>\n",
       "</table>\n",
       "<p>5 rows × 52 columns</p>\n",
       "</div>"
      ],
      "text/plain": [
       "   raceId  driverId  lap  position_x  time_x_x  milliseconds_x  year  round  \\\n",
       "0     841        20    1           1  1:38.109           98109  2011      1   \n",
       "1     841        20    2           1  1:33.006           93006  2011      1   \n",
       "2     841        20    3           1  1:32.713           92713  2011      1   \n",
       "3     841        20    4           1  1:32.803           92803  2011      1   \n",
       "4     841        20    5           1  1:32.342           92342  2011      1   \n",
       "\n",
       "   circuitId                   name  ...  \\\n",
       "0          1  Australian Grand Prix  ...   \n",
       "1          1  Australian Grand Prix  ...   \n",
       "2          1  Australian Grand Prix  ...   \n",
       "3          1  Australian Grand Prix  ...   \n",
       "4          1  Australian Grand Prix  ...   \n",
       "\n",
       "                                 constructorUrl driverRef number_y  code  \\\n",
       "0  http://en.wikipedia.org/wiki/Red_Bull_Racing    vettel      5.0   VET   \n",
       "1  http://en.wikipedia.org/wiki/Red_Bull_Racing    vettel      5.0   VET   \n",
       "2  http://en.wikipedia.org/wiki/Red_Bull_Racing    vettel      5.0   VET   \n",
       "3  http://en.wikipedia.org/wiki/Red_Bull_Racing    vettel      5.0   VET   \n",
       "4  http://en.wikipedia.org/wiki/Red_Bull_Racing    vettel      5.0   VET   \n",
       "\n",
       "    forename  surname         dob driverNationality  \\\n",
       "0  Sebastian   Vettel  1987-07-03            German   \n",
       "1  Sebastian   Vettel  1987-07-03            German   \n",
       "2  Sebastian   Vettel  1987-07-03            German   \n",
       "3  Sebastian   Vettel  1987-07-03            German   \n",
       "4  Sebastian   Vettel  1987-07-03            German   \n",
       "\n",
       "                                       driverUrl        driverName  \n",
       "0  http://en.wikipedia.org/wiki/Sebastian_Vettel  Sebastian Vettel  \n",
       "1  http://en.wikipedia.org/wiki/Sebastian_Vettel  Sebastian Vettel  \n",
       "2  http://en.wikipedia.org/wiki/Sebastian_Vettel  Sebastian Vettel  \n",
       "3  http://en.wikipedia.org/wiki/Sebastian_Vettel  Sebastian Vettel  \n",
       "4  http://en.wikipedia.org/wiki/Sebastian_Vettel  Sebastian Vettel  \n",
       "\n",
       "[5 rows x 52 columns]"
      ]
     },
     "execution_count": 6,
     "metadata": {},
     "output_type": "execute_result"
    }
   ],
   "source": [
    "lapTimesAnalysis = pd.merge(lapTimes,races,left_on='raceId',right_on='raceId',how='left')\n",
    "lapTimesAnalysis = pd.merge(lapTimesAnalysis,resultsAnalysis,left_on=['raceId','driverId','year','round','circuitId','name','url'],right_on=['raceId','driverId','year','round','circuitId','name','url'],how='left')\n",
    "lapTimesAnalysis.head()\n",
    "\n"
   ]
  },
  {
   "cell_type": "markdown",
   "metadata": {},
   "source": [
    "## Lap time in years"
   ]
  },
  {
   "cell_type": "code",
   "execution_count": 7,
   "metadata": {},
   "outputs": [
    {
     "data": {
      "application/vnd.plotly.v1+json": {
       "config": {
        "plotlyServerURL": "https://plot.ly"
       },
       "data": [
        {
         "hovertemplate": "constructorName=Benetton<br>year=%{x}<br>lapSeconds=%{y}<extra></extra>",
         "legendgroup": "Benetton",
         "line": {
          "color": "#00cc96",
          "dash": "solid"
         },
         "marker": {
          "symbol": "circle"
         },
         "mode": "lines",
         "name": "Benetton",
         "opacity": 0.65,
         "orientation": "v",
         "showlegend": true,
         "type": "scatter",
         "x": [
          1996,
          1997,
          1998,
          1999,
          2000,
          2001
         ],
         "xaxis": "x",
         "y": [
          83.89908510638298,
          83.52993464052288,
          83.58115172413792,
          83.64351937984496,
          86.97029906542056,
          83.10146534653465
         ],
         "yaxis": "y"
        },
        {
         "hovertemplate": "constructorName=Ferrari<br>year=%{x}<br>lapSeconds=%{y}<extra></extra>",
         "legendgroup": "Ferrari",
         "line": {
          "color": "#ED1C24",
          "dash": "solid"
         },
         "marker": {
          "symbol": "circle"
         },
         "mode": "lines",
         "name": "Ferrari",
         "opacity": 0.65,
         "orientation": "v",
         "showlegend": true,
         "type": "scatter",
         "x": [
          1996,
          1997,
          1998,
          1999,
          2000,
          2001,
          2002,
          2003,
          2004,
          2005,
          2006,
          2007,
          2008,
          2009,
          2010,
          2011,
          2012,
          2013,
          2014,
          2015,
          2016,
          2017,
          2018,
          2019,
          2020,
          2021,
          2022
         ],
         "xaxis": "x",
         "y": [
          83.78115841584159,
          82.80707843137255,
          82.29104444444445,
          84.20718421052632,
          82.59618181818182,
          79.36826623376624,
          79.3404935064935,
          86.40685227272728,
          81.8354142857143,
          84.71492086330935,
          98.19486029411765,
          82.96641726618705,
          83.61309489051095,
          84.50578571428571,
          86.97455,
          92.19763571428571,
          88.3768768115942,
          88.47677142857142,
          97.19165714285714,
          93.51620967741935,
          86.69633571428571,
          85.53095714285715,
          83.64341428571429,
          82.38767857142857,
          83.99219565217392,
          107.1173857142857,
          85.58892857142858
         ],
         "yaxis": "y"
        },
        {
         "hovertemplate": "constructorName=Footwork<br>year=%{x}<br>lapSeconds=%{y}<extra></extra>",
         "legendgroup": "Footwork",
         "line": {
          "color": "#ab63fa",
          "dash": "solid"
         },
         "marker": {
          "symbol": "circle"
         },
         "mode": "lines",
         "name": "Footwork",
         "opacity": 0.65,
         "orientation": "v",
         "showlegend": true,
         "type": "scatter",
         "x": [
          1996
         ],
         "xaxis": "x",
         "y": [
          86.74390476190476
         ],
         "yaxis": "y"
        },
        {
         "hovertemplate": "constructorName=Jordan<br>year=%{x}<br>lapSeconds=%{y}<extra></extra>",
         "legendgroup": "Jordan",
         "line": {
          "color": "#FFA15A",
          "dash": "solid"
         },
         "marker": {
          "symbol": "circle"
         },
         "mode": "lines",
         "name": "Jordan",
         "opacity": 0.65,
         "orientation": "v",
         "showlegend": true,
         "type": "scatter",
         "x": [
          1996,
          1997,
          1998,
          1999,
          2000,
          2001,
          2002,
          2003,
          2004,
          2005
         ],
         "xaxis": "x",
         "y": [
          85.3626875,
          82.77900840336135,
          83.37214379084968,
          83.47151298701299,
          83.4133725490196,
          81.67675,
          80.44034640522875,
          88.95217741935484,
          85.03318103448277,
          88.54715037593985
         ],
         "yaxis": "y"
        },
        {
         "hovertemplate": "constructorName=Ligier<br>year=%{x}<br>lapSeconds=%{y}<extra></extra>",
         "legendgroup": "Ligier",
         "line": {
          "color": "#19d3f3",
          "dash": "solid"
         },
         "marker": {
          "symbol": "circle"
         },
         "mode": "lines",
         "name": "Ligier",
         "opacity": 0.65,
         "orientation": "v",
         "showlegend": true,
         "type": "scatter",
         "x": [
          1996
         ],
         "xaxis": "x",
         "y": [
          85.20555844155845
         ],
         "yaxis": "y"
        },
        {
         "hovertemplate": "constructorName=McLaren<br>year=%{x}<br>lapSeconds=%{y}<extra></extra>",
         "legendgroup": "McLaren",
         "line": {
          "color": "#F58020",
          "dash": "solid"
         },
         "marker": {
          "symbol": "circle"
         },
         "mode": "lines",
         "name": "McLaren",
         "opacity": 0.65,
         "orientation": "v",
         "showlegend": true,
         "type": "scatter",
         "x": [
          1996,
          1997,
          1998,
          1999,
          2000,
          2001,
          2002,
          2003,
          2004,
          2005,
          2006,
          2007,
          2008,
          2009,
          2010,
          2011,
          2012,
          2013,
          2014,
          2015,
          2016,
          2017,
          2018,
          2019,
          2020,
          2021,
          2022
         ],
         "xaxis": "x",
         "y": [
          84.18262626262626,
          82.34681818181818,
          82.77723529411765,
          82.96609090909091,
          82.31294155844155,
          79.82846103896104,
          79.77455194805195,
          85.40159285714286,
          84.04354878048781,
          83.73102702702703,
          96.99232631578948,
          82.506,
          83.69415714285715,
          84.58674285714285,
          88.82826373626374,
          91.80722857142858,
          88.12499275362319,
          88.8836690647482,
          97.97043571428571,
          93.15997826086956,
          88.2521085271318,
          86.79623021582734,
          85.3565593220339,
          83.13266666666668,
          84.15238405797102,
          110.43929577464789,
          86.80979136690647
         ],
         "yaxis": "y"
        },
        {
         "hovertemplate": "constructorName=Minardi<br>year=%{x}<br>lapSeconds=%{y}<extra></extra>",
         "legendgroup": "Minardi",
         "line": {
          "color": "#FF6692",
          "dash": "solid"
         },
         "marker": {
          "symbol": "circle"
         },
         "mode": "lines",
         "name": "Minardi",
         "opacity": 0.65,
         "orientation": "v",
         "showlegend": true,
         "type": "scatter",
         "x": [
          1996,
          1997,
          1998,
          1999,
          2000,
          2001,
          2002,
          2003,
          2004,
          2005
         ],
         "xaxis": "x",
         "y": [
          88.07829032258064,
          84.29613245033113,
          87.40410344827586,
          86.08112751677852,
          86.35844366197183,
          85.16548,
          82.63187969924813,
          90.06275939849624,
          88.32840458015268,
          96.67709411764706
         ],
         "yaxis": "y"
        },
        {
         "hovertemplate": "constructorName=Sauber<br>year=%{x}<br>lapSeconds=%{y}<extra></extra>",
         "legendgroup": "Sauber",
         "line": {
          "color": "#006EFF",
          "dash": "solid"
         },
         "marker": {
          "symbol": "circle"
         },
         "mode": "lines",
         "name": "Sauber",
         "opacity": 0.65,
         "orientation": "v",
         "showlegend": true,
         "type": "scatter",
         "x": [
          1996,
          1997,
          1998,
          1999,
          2000,
          2001,
          2002,
          2003,
          2004,
          2005,
          2010,
          2011,
          2012,
          2013,
          2014,
          2015,
          2016,
          2017,
          2018
         ],
         "xaxis": "x",
         "y": [
          85.12435294117647,
          83.04216666666667,
          83.69751315789475,
          84.08092473118279,
          84.08390579710145,
          80.70849342105264,
          80.39720915032679,
          86.77275862068964,
          84.43681111111111,
          90.67618487394958,
          87.93668840579711,
          94.47968613138687,
          89.07089705882353,
          90.36451546391753,
          100.83693137254902,
          93.35186956521738,
          88.80436496350366,
          88.53836764705883,
          86.43713235294118
         ],
         "yaxis": "y"
        },
        {
         "hovertemplate": "constructorName=Tyrrell<br>year=%{x}<br>lapSeconds=%{y}<extra></extra>",
         "legendgroup": "Tyrrell",
         "line": {
          "color": "#B6E880",
          "dash": "solid"
         },
         "marker": {
          "symbol": "circle"
         },
         "mode": "lines",
         "name": "Tyrrell",
         "opacity": 0.65,
         "orientation": "v",
         "showlegend": true,
         "type": "scatter",
         "x": [
          1996,
          1997,
          1998
         ],
         "xaxis": "x",
         "y": [
          86.61968918918919,
          85.04508088235293,
          86.05597297297297
         ],
         "yaxis": "y"
        },
        {
         "hovertemplate": "constructorName=Williams<br>year=%{x}<br>lapSeconds=%{y}<extra></extra>",
         "legendgroup": "Williams",
         "line": {
          "color": "#37BEDD",
          "dash": "solid"
         },
         "marker": {
          "symbol": "circle"
         },
         "mode": "lines",
         "name": "Williams",
         "opacity": 0.65,
         "orientation": "v",
         "showlegend": true,
         "type": "scatter",
         "x": [
          1996,
          1997,
          1998,
          1999,
          2000,
          2001,
          2002,
          2003,
          2004,
          2005,
          2006,
          2007,
          2008,
          2009,
          2010,
          2011,
          2012,
          2013,
          2014,
          2015,
          2016,
          2017,
          2018,
          2019,
          2020,
          2021,
          2022
         ],
         "xaxis": "x",
         "y": [
          82.87633116883117,
          82.08094339622642,
          82.80555844155845,
          84.87662790697675,
          83.33249019607842,
          80.58752287581699,
          80.08503267973856,
          85.37912142857142,
          82.85246043165468,
          84.65632374100718,
          103.91300000000001,
          83.39056115107914,
          85.66701449275362,
          85.02495,
          87.8628201438849,
          94.8090955882353,
          88.61239855072463,
          90.05601801801802,
          97.43786428571428,
          93.43823188405797,
          88.32891970802919,
          88.19308527131783,
          86.58334558823529,
          85.02055555555555,
          87.09376865671642,
          108.0243,
          87.66445652173913
         ],
         "yaxis": "y"
        },
        {
         "hovertemplate": "constructorName=Arrows<br>year=%{x}<br>lapSeconds=%{y}<extra></extra>",
         "legendgroup": "Arrows",
         "line": {
          "color": "#FF97FF",
          "dash": "solid"
         },
         "marker": {
          "symbol": "circle"
         },
         "mode": "lines",
         "name": "Arrows",
         "opacity": 0.65,
         "orientation": "v",
         "showlegend": true,
         "type": "scatter",
         "x": [
          1997,
          1998,
          1999,
          2000,
          2001
         ],
         "xaxis": "x",
         "y": [
          83.07643076923077,
          85.42189130434782,
          86.2060792079208,
          85.9090608108108,
          83.07671764705881
         ],
         "yaxis": "y"
        },
        {
         "hovertemplate": "constructorName=Prost<br>year=%{x}<br>lapSeconds=%{y}<extra></extra>",
         "legendgroup": "Prost",
         "line": {
          "color": "#FECB52",
          "dash": "solid"
         },
         "marker": {
          "symbol": "circle"
         },
         "mode": "lines",
         "name": "Prost",
         "opacity": 0.65,
         "orientation": "v",
         "showlegend": true,
         "type": "scatter",
         "x": [
          1997,
          1998,
          1999,
          2000,
          2001
         ],
         "xaxis": "x",
         "y": [
          83.19066233766233,
          85.59985294117647,
          84.41342763157895,
          94.70287878787879,
          83.26809859154929
         ],
         "yaxis": "y"
        },
        {
         "hovertemplate": "constructorName=Stewart<br>year=%{x}<br>lapSeconds=%{y}<extra></extra>",
         "legendgroup": "Stewart",
         "line": {
          "color": "#636efa",
          "dash": "solid"
         },
         "marker": {
          "symbol": "circle"
         },
         "mode": "lines",
         "name": "Stewart",
         "opacity": 0.65,
         "orientation": "v",
         "showlegend": true,
         "type": "scatter",
         "x": [
          1997,
          1998,
          1999
         ],
         "xaxis": "x",
         "y": [
          85.65285294117648,
          85.955890625,
          84.16400653594772
         ],
         "yaxis": "y"
        },
        {
         "hovertemplate": "constructorName=BAR<br>year=%{x}<br>lapSeconds=%{y}<extra></extra>",
         "legendgroup": "BAR",
         "line": {
          "color": "#EF553B",
          "dash": "solid"
         },
         "marker": {
          "symbol": "circle"
         },
         "mode": "lines",
         "name": "BAR",
         "opacity": 0.65,
         "orientation": "v",
         "showlegend": true,
         "type": "scatter",
         "x": [
          1999,
          2000,
          2001,
          2002,
          2003,
          2004,
          2005
         ],
         "xaxis": "x",
         "y": [
          85.15945925925926,
          85.02485333333333,
          89.97608270676692,
          81.21690625000001,
          87.26572289156627,
          82.87901438848921,
          84.68241726618704
         ],
         "yaxis": "y"
        },
        {
         "hovertemplate": "constructorName=Jaguar<br>year=%{x}<br>lapSeconds=%{y}<extra></extra>",
         "legendgroup": "Jaguar",
         "line": {
          "color": "#00cc96",
          "dash": "solid"
         },
         "marker": {
          "symbol": "circle"
         },
         "mode": "lines",
         "name": "Jaguar",
         "opacity": 0.65,
         "orientation": "v",
         "showlegend": true,
         "type": "scatter",
         "x": [
          2000,
          2001,
          2002,
          2003,
          2004
         ],
         "xaxis": "x",
         "y": [
          84.6178041958042,
          81.6604,
          81.8070918367347,
          86.44742857142856,
          84.52095620437956
         ],
         "yaxis": "y"
        },
        {
         "hovertemplate": "constructorName=Renault<br>year=%{x}<br>lapSeconds=%{y}<extra></extra>",
         "legendgroup": "Renault",
         "line": {
          "color": "#FFD800",
          "dash": "solid"
         },
         "marker": {
          "symbol": "circle"
         },
         "mode": "lines",
         "name": "Renault",
         "opacity": 0.65,
         "orientation": "v",
         "showlegend": true,
         "type": "scatter",
         "x": [
          2002,
          2003,
          2004,
          2005,
          2006,
          2007,
          2008,
          2009,
          2010,
          2011,
          2016,
          2017,
          2018,
          2019,
          2020
         ],
         "xaxis": "x",
         "y": [
          80.44235849056604,
          85.5295035971223,
          82.90882882882882,
          85.38236956521739,
          99.10302898550725,
          83.44655395683453,
          83.9146142857143,
          86.50469411764706,
          90.06413978494624,
          95.96019565217391,
          88.1393768115942,
          87.3655294117647,
          85.42859420289855,
          83.8043115942029,
          84.0542463768116
         ],
         "yaxis": "y"
        },
        {
         "hovertemplate": "constructorName=Toyota<br>year=%{x}<br>lapSeconds=%{y}<extra></extra>",
         "legendgroup": "Toyota",
         "line": {
          "color": "#ab63fa",
          "dash": "solid"
         },
         "marker": {
          "symbol": "circle"
         },
         "mode": "lines",
         "name": "Toyota",
         "opacity": 0.65,
         "orientation": "v",
         "showlegend": true,
         "type": "scatter",
         "x": [
          2002,
          2003,
          2004,
          2005,
          2006,
          2007,
          2008,
          2009
         ],
         "xaxis": "x",
         "y": [
          82.04046666666666,
          87.54223762376238,
          84.66185,
          84.15324285714286,
          98.8086791044776,
          83.26730215827338,
          83.86888571428571,
          85.07972142857143
         ],
         "yaxis": "y"
        },
        {
         "hovertemplate": "constructorName=BMW Sauber<br>year=%{x}<br>lapSeconds=%{y}<extra></extra>",
         "legendgroup": "BMW Sauber",
         "line": {
          "color": "#FFA15A",
          "dash": "solid"
         },
         "marker": {
          "symbol": "circle"
         },
         "mode": "lines",
         "name": "BMW Sauber",
         "opacity": 0.65,
         "orientation": "v",
         "showlegend": true,
         "type": "scatter",
         "x": [
          2006,
          2007,
          2008,
          2009
         ],
         "xaxis": "x",
         "y": [
          97.76279136690647,
          82.8337642857143,
          84.35831428571429,
          85.37435714285714
         ],
         "yaxis": "y"
        },
        {
         "hovertemplate": "constructorName=Honda<br>year=%{x}<br>lapSeconds=%{y}<extra></extra>",
         "legendgroup": "Honda",
         "line": {
          "color": "#19d3f3",
          "dash": "solid"
         },
         "marker": {
          "symbol": "circle"
         },
         "mode": "lines",
         "name": "Honda",
         "opacity": 0.65,
         "orientation": "v",
         "showlegend": true,
         "type": "scatter",
         "x": [
          2006,
          2007,
          2008
         ],
         "xaxis": "x",
         "y": [
          96.62205,
          85.28514563106796,
          85.68848175182482
         ],
         "yaxis": "y"
        },
        {
         "hovertemplate": "constructorName=MF1<br>year=%{x}<br>lapSeconds=%{y}<extra></extra>",
         "legendgroup": "MF1",
         "line": {
          "color": "#FF6692",
          "dash": "solid"
         },
         "marker": {
          "symbol": "circle"
         },
         "mode": "lines",
         "name": "MF1",
         "opacity": 0.65,
         "orientation": "v",
         "showlegend": true,
         "type": "scatter",
         "x": [
          2006
         ],
         "xaxis": "x",
         "y": [
          101.45169402985074
         ],
         "yaxis": "y"
        },
        {
         "hovertemplate": "constructorName=Red Bull<br>year=%{x}<br>lapSeconds=%{y}<extra></extra>",
         "legendgroup": "Red Bull",
         "line": {
          "color": "#1E5BC6",
          "dash": "solid"
         },
         "marker": {
          "symbol": "circle"
         },
         "mode": "lines",
         "name": "Red Bull",
         "opacity": 0.65,
         "orientation": "v",
         "showlegend": true,
         "type": "scatter",
         "x": [
          2006,
          2007,
          2008,
          2009,
          2010,
          2011,
          2012,
          2013,
          2014,
          2015,
          2016,
          2017,
          2018,
          2019,
          2020,
          2021,
          2022
         ],
         "xaxis": "x",
         "y": [
          98.60713333333334,
          83.4633237410072,
          84.45267857142858,
          85.61386868686868,
          86.78852857142857,
          91.84288571428571,
          88.2396956521739,
          88.06709285714285,
          97.222,
          92.54204347826087,
          86.68877142857143,
          85.71412857142856,
          84.1454,
          82.40364028776979,
          83.08545714285714,
          108.04918571428571,
          85.48222857142858
         ],
         "yaxis": "y"
        },
        {
         "hovertemplate": "constructorName=Super Aguri<br>year=%{x}<br>lapSeconds=%{y}<extra></extra>",
         "legendgroup": "Super Aguri",
         "line": {
          "color": "#B6E880",
          "dash": "solid"
         },
         "marker": {
          "symbol": "circle"
         },
         "mode": "lines",
         "name": "Super Aguri",
         "opacity": 0.65,
         "orientation": "v",
         "showlegend": true,
         "type": "scatter",
         "x": [
          2006,
          2007
         ],
         "xaxis": "x",
         "y": [
          103.74883076923076,
          84.13773636363636
         ],
         "yaxis": "y"
        },
        {
         "hovertemplate": "constructorName=Toro Rosso<br>year=%{x}<br>lapSeconds=%{y}<extra></extra>",
         "legendgroup": "Toro Rosso",
         "line": {
          "color": "#0000FF",
          "dash": "solid"
         },
         "marker": {
          "symbol": "circle"
         },
         "mode": "lines",
         "name": "Toro Rosso",
         "opacity": 0.65,
         "orientation": "v",
         "showlegend": true,
         "type": "scatter",
         "x": [
          2006,
          2007,
          2008,
          2009,
          2010,
          2011,
          2012,
          2013,
          2014,
          2015,
          2016,
          2017,
          2018,
          2019
         ],
         "xaxis": "x",
         "y": [
          103.21085714285715,
          84.66461261261261,
          87.77165168539325,
          86.05794927536232,
          88.58184285714286,
          93.59392028985506,
          89.68186029411766,
          89.84934057971014,
          98.18212949640288,
          93.57093798449613,
          87.88064492753624,
          87.03496376811594,
          84.90719424460431,
          83.79056204379563
         ],
         "yaxis": "y"
        },
        {
         "hovertemplate": "constructorName=Spyker<br>year=%{x}<br>lapSeconds=%{y}<extra></extra>",
         "legendgroup": "Spyker",
         "line": {
          "color": "#FF97FF",
          "dash": "solid"
         },
         "marker": {
          "symbol": "circle"
         },
         "mode": "lines",
         "name": "Spyker",
         "opacity": 0.65,
         "orientation": "v",
         "showlegend": true,
         "type": "scatter",
         "x": [
          2007
         ],
         "xaxis": "x",
         "y": [
          85.44558333333333
         ],
         "yaxis": "y"
        },
        {
         "hovertemplate": "constructorName=Force India<br>year=%{x}<br>lapSeconds=%{y}<extra></extra>",
         "legendgroup": "Force India",
         "line": {
          "color": "#FF80C7",
          "dash": "solid"
         },
         "marker": {
          "symbol": "circle"
         },
         "mode": "lines",
         "name": "Force India",
         "opacity": 0.65,
         "orientation": "v",
         "showlegend": true,
         "type": "scatter",
         "x": [
          2008,
          2009,
          2010,
          2011,
          2012,
          2013,
          2014,
          2015,
          2016,
          2017,
          2018
         ],
         "xaxis": "x",
         "y": [
          86.99732824427481,
          85.86435714285714,
          88.712,
          94.2546204379562,
          88.77663768115941,
          90.25356470588235,
          111.6631388888889,
          93.08208510638298,
          87.8423115942029,
          86.98231884057971,
          85.68219565217392
         ],
         "yaxis": "y"
        },
        {
         "hovertemplate": "constructorName=Brawn<br>year=%{x}<br>lapSeconds=%{y}<extra></extra>",
         "legendgroup": "Brawn",
         "line": {
          "color": "#FECB52",
          "dash": "solid"
         },
         "marker": {
          "symbol": "circle"
         },
         "mode": "lines",
         "name": "Brawn",
         "opacity": 0.65,
         "orientation": "v",
         "showlegend": true,
         "type": "scatter",
         "x": [
          2009
         ],
         "xaxis": "x",
         "y": [
          85.22925714285714
         ],
         "yaxis": "y"
        },
        {
         "hovertemplate": "constructorName=HRT<br>year=%{x}<br>lapSeconds=%{y}<extra></extra>",
         "legendgroup": "HRT",
         "line": {
          "color": "#b2945e",
          "dash": "solid"
         },
         "marker": {
          "symbol": "circle"
         },
         "mode": "lines",
         "name": "HRT",
         "opacity": 0.65,
         "orientation": "v",
         "showlegend": true,
         "type": "scatter",
         "x": [
          2010,
          2011,
          2012
         ],
         "xaxis": "x",
         "y": [
          92.31524060150376,
          98.45074809160306,
          92.95936507936507
         ],
         "yaxis": "y"
        },
        {
         "hovertemplate": "constructorName=Lotus<br>year=%{x}<br>lapSeconds=%{y}<extra></extra>",
         "legendgroup": "Lotus",
         "line": {
          "color": "#FFB800",
          "dash": "solid"
         },
         "marker": {
          "symbol": "circle"
         },
         "mode": "lines",
         "name": "Lotus",
         "opacity": 0.65,
         "orientation": "v",
         "showlegend": true,
         "type": "scatter",
         "x": [
          2010,
          2011
         ],
         "xaxis": "x",
         "y": [
          90.56835820895522,
          100.20777777777778
         ],
         "yaxis": "y"
        },
        {
         "hovertemplate": "constructorName=Mercedes<br>year=%{x}<br>lapSeconds=%{y}<extra></extra>",
         "legendgroup": "Mercedes",
         "line": {
          "color": "#6CD3BF",
          "dash": "solid"
         },
         "marker": {
          "symbol": "circle"
         },
         "mode": "lines",
         "name": "Mercedes",
         "opacity": 0.65,
         "orientation": "v",
         "showlegend": true,
         "type": "scatter",
         "x": [
          2010,
          2011,
          2012,
          2013,
          2014,
          2015,
          2016,
          2017,
          2018,
          2019,
          2020,
          2021,
          2022
         ],
         "xaxis": "x",
         "y": [
          88.5189761904762,
          95.01728421052631,
          89.36806299212599,
          88.31712686567165,
          97.01667142857143,
          93.1222536231884,
          86.15862142857144,
          85.70552142857143,
          83.73467142857142,
          82.30014388489208,
          82.53141428571428,
          106.94192857142856,
          85.51425
         ],
         "yaxis": "y"
        },
        {
         "hovertemplate": "constructorName=Virgin<br>year=%{x}<br>lapSeconds=%{y}<extra></extra>",
         "legendgroup": "Virgin",
         "line": {
          "color": "#c82e37",
          "dash": "solid"
         },
         "marker": {
          "symbol": "circle"
         },
         "mode": "lines",
         "name": "Virgin",
         "opacity": 0.65,
         "orientation": "v",
         "showlegend": true,
         "type": "scatter",
         "x": [
          2010,
          2011
         ],
         "xaxis": "x",
         "y": [
          91.86735338345865,
          98.00041984732825
         ],
         "yaxis": "y"
        },
        {
         "hovertemplate": "constructorName=Caterham<br>year=%{x}<br>lapSeconds=%{y}<extra></extra>",
         "legendgroup": "Caterham",
         "line": {
          "color": "#0b361f",
          "dash": "solid"
         },
         "marker": {
          "symbol": "circle"
         },
         "mode": "lines",
         "name": "Caterham",
         "opacity": 0.65,
         "orientation": "v",
         "showlegend": true,
         "type": "scatter",
         "x": [
          2012,
          2013,
          2014
         ],
         "xaxis": "x",
         "y": [
          90.60161481481482,
          91.0162205882353,
          110.15677419354839
         ],
         "yaxis": "y"
        },
        {
         "hovertemplate": "constructorName=Lotus F1<br>year=%{x}<br>lapSeconds=%{y}<extra></extra>",
         "legendgroup": "Lotus F1",
         "line": {
          "color": "#FFB800",
          "dash": "solid"
         },
         "marker": {
          "symbol": "circle"
         },
         "mode": "lines",
         "name": "Lotus F1",
         "opacity": 0.65,
         "orientation": "v",
         "showlegend": true,
         "type": "scatter",
         "x": [
          2012,
          2013,
          2014,
          2015
         ],
         "xaxis": "x",
         "y": [
          87.98953623188406,
          88.15802142857143,
          100.0603,
          93.28760869565218
         ],
         "yaxis": "y"
        },
        {
         "hovertemplate": "constructorName=Marussia<br>year=%{x}<br>lapSeconds=%{y}<extra></extra>",
         "legendgroup": "Marussia",
         "line": {
          "color": "#6E0000",
          "dash": "solid"
         },
         "marker": {
          "symbol": "circle"
         },
         "mode": "lines",
         "name": "Marussia",
         "opacity": 0.65,
         "orientation": "v",
         "showlegend": true,
         "type": "scatter",
         "x": [
          2012,
          2013,
          2014
         ],
         "xaxis": "x",
         "y": [
          91.83839097744361,
          92.35261940298507,
          99.03828985507246
         ],
         "yaxis": "y"
        },
        {
         "hovertemplate": "constructorName=Manor Marussia<br>year=%{x}<br>lapSeconds=%{y}<extra></extra>",
         "legendgroup": "Manor Marussia",
         "line": {
          "color": "#6E0000",
          "dash": "solid"
         },
         "marker": {
          "symbol": "circle"
         },
         "mode": "lines",
         "name": "Manor Marussia",
         "opacity": 0.65,
         "orientation": "v",
         "showlegend": true,
         "type": "scatter",
         "x": [
          2015,
          2016
         ],
         "xaxis": "x",
         "y": [
          96.0047803030303,
          89.53944117647059
         ],
         "yaxis": "y"
        },
        {
         "hovertemplate": "constructorName=Haas F1 Team<br>year=%{x}<br>lapSeconds=%{y}<extra></extra>",
         "legendgroup": "Haas F1 Team",
         "line": {
          "color": "#B6BABD",
          "dash": "solid"
         },
         "marker": {
          "symbol": "circle"
         },
         "mode": "lines",
         "name": "Haas F1 Team",
         "opacity": 0.65,
         "orientation": "v",
         "showlegend": true,
         "type": "scatter",
         "x": [
          2016,
          2017,
          2018,
          2019,
          2020,
          2021,
          2022
         ],
         "xaxis": "x",
         "y": [
          88.12250724637681,
          89.11858426966292,
          85.01761594202898,
          84.31889830508474,
          84.18328260869565,
          130.8009166666667,
          87.35760869565217
         ],
         "yaxis": "y"
        },
        {
         "hovertemplate": "constructorName=Alfa Romeo<br>year=%{x}<br>lapSeconds=%{y}<extra></extra>",
         "legendgroup": "Alfa Romeo",
         "line": {
          "color": "#B12039",
          "dash": "solid"
         },
         "marker": {
          "symbol": "circle"
         },
         "mode": "lines",
         "name": "Alfa Romeo",
         "opacity": 0.65,
         "orientation": "v",
         "showlegend": true,
         "type": "scatter",
         "x": [
          2019,
          2020,
          2021,
          2022
         ],
         "xaxis": "x",
         "y": [
          84.02808759124088,
          84.58541304347827,
          108.86296376811595,
          86.8236791044776
         ],
         "yaxis": "y"
        },
        {
         "hovertemplate": "constructorName=Racing Point<br>year=%{x}<br>lapSeconds=%{y}<extra></extra>",
         "legendgroup": "Racing Point",
         "line": {
          "color": "#F596C8",
          "dash": "solid"
         },
         "marker": {
          "symbol": "circle"
         },
         "mode": "lines",
         "name": "Racing Point",
         "opacity": 0.65,
         "orientation": "v",
         "showlegend": true,
         "type": "scatter",
         "x": [
          2019,
          2020
         ],
         "xaxis": "x",
         "y": [
          84.2980802919708,
          83.51907194244605
         ],
         "yaxis": "y"
        },
        {
         "hovertemplate": "constructorName=AlphaTauri<br>year=%{x}<br>lapSeconds=%{y}<extra></extra>",
         "legendgroup": "AlphaTauri",
         "line": {
          "color": "#4E7C9B",
          "dash": "solid"
         },
         "marker": {
          "symbol": "circle"
         },
         "mode": "lines",
         "name": "AlphaTauri",
         "opacity": 0.65,
         "orientation": "v",
         "showlegend": true,
         "type": "scatter",
         "x": [
          2020,
          2021,
          2022
         ],
         "xaxis": "x",
         "y": [
          85.57255952380953,
          107.89867857142858,
          87.85724817518248
         ],
         "yaxis": "y"
        },
        {
         "hovertemplate": "constructorName=Alpine F1 Team<br>year=%{x}<br>lapSeconds=%{y}<extra></extra>",
         "legendgroup": "Alpine F1 Team",
         "line": {
          "color": "#2293D1",
          "dash": "solid"
         },
         "marker": {
          "symbol": "circle"
         },
         "mode": "lines",
         "name": "Alpine F1 Team",
         "opacity": 0.65,
         "orientation": "v",
         "showlegend": true,
         "type": "scatter",
         "x": [
          2021,
          2022
         ],
         "xaxis": "x",
         "y": [
          107.01463571428572,
          86.74728985507247
         ],
         "yaxis": "y"
        },
        {
         "hovertemplate": "constructorName=Aston Martin<br>year=%{x}<br>lapSeconds=%{y}<extra></extra>",
         "legendgroup": "Aston Martin",
         "line": {
          "color": "#2D826D",
          "dash": "solid"
         },
         "marker": {
          "symbol": "circle"
         },
         "mode": "lines",
         "name": "Aston Martin",
         "opacity": 0.65,
         "orientation": "v",
         "showlegend": true,
         "type": "scatter",
         "x": [
          2021,
          2022
         ],
         "xaxis": "x",
         "y": [
          106.9294,
          86.82534057971016
         ],
         "yaxis": "y"
        }
       ],
       "layout": {
        "legend": {
         "title": {
          "text": "constructorName"
         },
         "tracegroupgap": 0
        },
        "margin": {
         "t": 60
        },
        "template": {
         "data": {
          "bar": [
           {
            "error_x": {
             "color": "#2a3f5f"
            },
            "error_y": {
             "color": "#2a3f5f"
            },
            "marker": {
             "line": {
              "color": "#E5ECF6",
              "width": 0.5
             },
             "pattern": {
              "fillmode": "overlay",
              "size": 10,
              "solidity": 0.2
             }
            },
            "type": "bar"
           }
          ],
          "barpolar": [
           {
            "marker": {
             "line": {
              "color": "#E5ECF6",
              "width": 0.5
             },
             "pattern": {
              "fillmode": "overlay",
              "size": 10,
              "solidity": 0.2
             }
            },
            "type": "barpolar"
           }
          ],
          "carpet": [
           {
            "aaxis": {
             "endlinecolor": "#2a3f5f",
             "gridcolor": "white",
             "linecolor": "white",
             "minorgridcolor": "white",
             "startlinecolor": "#2a3f5f"
            },
            "baxis": {
             "endlinecolor": "#2a3f5f",
             "gridcolor": "white",
             "linecolor": "white",
             "minorgridcolor": "white",
             "startlinecolor": "#2a3f5f"
            },
            "type": "carpet"
           }
          ],
          "choropleth": [
           {
            "colorbar": {
             "outlinewidth": 0,
             "ticks": ""
            },
            "type": "choropleth"
           }
          ],
          "contour": [
           {
            "colorbar": {
             "outlinewidth": 0,
             "ticks": ""
            },
            "colorscale": [
             [
              0,
              "#0d0887"
             ],
             [
              0.1111111111111111,
              "#46039f"
             ],
             [
              0.2222222222222222,
              "#7201a8"
             ],
             [
              0.3333333333333333,
              "#9c179e"
             ],
             [
              0.4444444444444444,
              "#bd3786"
             ],
             [
              0.5555555555555556,
              "#d8576b"
             ],
             [
              0.6666666666666666,
              "#ed7953"
             ],
             [
              0.7777777777777778,
              "#fb9f3a"
             ],
             [
              0.8888888888888888,
              "#fdca26"
             ],
             [
              1,
              "#f0f921"
             ]
            ],
            "type": "contour"
           }
          ],
          "contourcarpet": [
           {
            "colorbar": {
             "outlinewidth": 0,
             "ticks": ""
            },
            "type": "contourcarpet"
           }
          ],
          "heatmap": [
           {
            "colorbar": {
             "outlinewidth": 0,
             "ticks": ""
            },
            "colorscale": [
             [
              0,
              "#0d0887"
             ],
             [
              0.1111111111111111,
              "#46039f"
             ],
             [
              0.2222222222222222,
              "#7201a8"
             ],
             [
              0.3333333333333333,
              "#9c179e"
             ],
             [
              0.4444444444444444,
              "#bd3786"
             ],
             [
              0.5555555555555556,
              "#d8576b"
             ],
             [
              0.6666666666666666,
              "#ed7953"
             ],
             [
              0.7777777777777778,
              "#fb9f3a"
             ],
             [
              0.8888888888888888,
              "#fdca26"
             ],
             [
              1,
              "#f0f921"
             ]
            ],
            "type": "heatmap"
           }
          ],
          "heatmapgl": [
           {
            "colorbar": {
             "outlinewidth": 0,
             "ticks": ""
            },
            "colorscale": [
             [
              0,
              "#0d0887"
             ],
             [
              0.1111111111111111,
              "#46039f"
             ],
             [
              0.2222222222222222,
              "#7201a8"
             ],
             [
              0.3333333333333333,
              "#9c179e"
             ],
             [
              0.4444444444444444,
              "#bd3786"
             ],
             [
              0.5555555555555556,
              "#d8576b"
             ],
             [
              0.6666666666666666,
              "#ed7953"
             ],
             [
              0.7777777777777778,
              "#fb9f3a"
             ],
             [
              0.8888888888888888,
              "#fdca26"
             ],
             [
              1,
              "#f0f921"
             ]
            ],
            "type": "heatmapgl"
           }
          ],
          "histogram": [
           {
            "marker": {
             "pattern": {
              "fillmode": "overlay",
              "size": 10,
              "solidity": 0.2
             }
            },
            "type": "histogram"
           }
          ],
          "histogram2d": [
           {
            "colorbar": {
             "outlinewidth": 0,
             "ticks": ""
            },
            "colorscale": [
             [
              0,
              "#0d0887"
             ],
             [
              0.1111111111111111,
              "#46039f"
             ],
             [
              0.2222222222222222,
              "#7201a8"
             ],
             [
              0.3333333333333333,
              "#9c179e"
             ],
             [
              0.4444444444444444,
              "#bd3786"
             ],
             [
              0.5555555555555556,
              "#d8576b"
             ],
             [
              0.6666666666666666,
              "#ed7953"
             ],
             [
              0.7777777777777778,
              "#fb9f3a"
             ],
             [
              0.8888888888888888,
              "#fdca26"
             ],
             [
              1,
              "#f0f921"
             ]
            ],
            "type": "histogram2d"
           }
          ],
          "histogram2dcontour": [
           {
            "colorbar": {
             "outlinewidth": 0,
             "ticks": ""
            },
            "colorscale": [
             [
              0,
              "#0d0887"
             ],
             [
              0.1111111111111111,
              "#46039f"
             ],
             [
              0.2222222222222222,
              "#7201a8"
             ],
             [
              0.3333333333333333,
              "#9c179e"
             ],
             [
              0.4444444444444444,
              "#bd3786"
             ],
             [
              0.5555555555555556,
              "#d8576b"
             ],
             [
              0.6666666666666666,
              "#ed7953"
             ],
             [
              0.7777777777777778,
              "#fb9f3a"
             ],
             [
              0.8888888888888888,
              "#fdca26"
             ],
             [
              1,
              "#f0f921"
             ]
            ],
            "type": "histogram2dcontour"
           }
          ],
          "mesh3d": [
           {
            "colorbar": {
             "outlinewidth": 0,
             "ticks": ""
            },
            "type": "mesh3d"
           }
          ],
          "parcoords": [
           {
            "line": {
             "colorbar": {
              "outlinewidth": 0,
              "ticks": ""
             }
            },
            "type": "parcoords"
           }
          ],
          "pie": [
           {
            "automargin": true,
            "type": "pie"
           }
          ],
          "scatter": [
           {
            "fillpattern": {
             "fillmode": "overlay",
             "size": 10,
             "solidity": 0.2
            },
            "type": "scatter"
           }
          ],
          "scatter3d": [
           {
            "line": {
             "colorbar": {
              "outlinewidth": 0,
              "ticks": ""
             }
            },
            "marker": {
             "colorbar": {
              "outlinewidth": 0,
              "ticks": ""
             }
            },
            "type": "scatter3d"
           }
          ],
          "scattercarpet": [
           {
            "marker": {
             "colorbar": {
              "outlinewidth": 0,
              "ticks": ""
             }
            },
            "type": "scattercarpet"
           }
          ],
          "scattergeo": [
           {
            "marker": {
             "colorbar": {
              "outlinewidth": 0,
              "ticks": ""
             }
            },
            "type": "scattergeo"
           }
          ],
          "scattergl": [
           {
            "marker": {
             "colorbar": {
              "outlinewidth": 0,
              "ticks": ""
             }
            },
            "type": "scattergl"
           }
          ],
          "scattermapbox": [
           {
            "marker": {
             "colorbar": {
              "outlinewidth": 0,
              "ticks": ""
             }
            },
            "type": "scattermapbox"
           }
          ],
          "scatterpolar": [
           {
            "marker": {
             "colorbar": {
              "outlinewidth": 0,
              "ticks": ""
             }
            },
            "type": "scatterpolar"
           }
          ],
          "scatterpolargl": [
           {
            "marker": {
             "colorbar": {
              "outlinewidth": 0,
              "ticks": ""
             }
            },
            "type": "scatterpolargl"
           }
          ],
          "scatterternary": [
           {
            "marker": {
             "colorbar": {
              "outlinewidth": 0,
              "ticks": ""
             }
            },
            "type": "scatterternary"
           }
          ],
          "surface": [
           {
            "colorbar": {
             "outlinewidth": 0,
             "ticks": ""
            },
            "colorscale": [
             [
              0,
              "#0d0887"
             ],
             [
              0.1111111111111111,
              "#46039f"
             ],
             [
              0.2222222222222222,
              "#7201a8"
             ],
             [
              0.3333333333333333,
              "#9c179e"
             ],
             [
              0.4444444444444444,
              "#bd3786"
             ],
             [
              0.5555555555555556,
              "#d8576b"
             ],
             [
              0.6666666666666666,
              "#ed7953"
             ],
             [
              0.7777777777777778,
              "#fb9f3a"
             ],
             [
              0.8888888888888888,
              "#fdca26"
             ],
             [
              1,
              "#f0f921"
             ]
            ],
            "type": "surface"
           }
          ],
          "table": [
           {
            "cells": {
             "fill": {
              "color": "#EBF0F8"
             },
             "line": {
              "color": "white"
             }
            },
            "header": {
             "fill": {
              "color": "#C8D4E3"
             },
             "line": {
              "color": "white"
             }
            },
            "type": "table"
           }
          ]
         },
         "layout": {
          "annotationdefaults": {
           "arrowcolor": "#2a3f5f",
           "arrowhead": 0,
           "arrowwidth": 1
          },
          "autotypenumbers": "strict",
          "coloraxis": {
           "colorbar": {
            "outlinewidth": 0,
            "ticks": ""
           }
          },
          "colorscale": {
           "diverging": [
            [
             0,
             "#8e0152"
            ],
            [
             0.1,
             "#c51b7d"
            ],
            [
             0.2,
             "#de77ae"
            ],
            [
             0.3,
             "#f1b6da"
            ],
            [
             0.4,
             "#fde0ef"
            ],
            [
             0.5,
             "#f7f7f7"
            ],
            [
             0.6,
             "#e6f5d0"
            ],
            [
             0.7,
             "#b8e186"
            ],
            [
             0.8,
             "#7fbc41"
            ],
            [
             0.9,
             "#4d9221"
            ],
            [
             1,
             "#276419"
            ]
           ],
           "sequential": [
            [
             0,
             "#0d0887"
            ],
            [
             0.1111111111111111,
             "#46039f"
            ],
            [
             0.2222222222222222,
             "#7201a8"
            ],
            [
             0.3333333333333333,
             "#9c179e"
            ],
            [
             0.4444444444444444,
             "#bd3786"
            ],
            [
             0.5555555555555556,
             "#d8576b"
            ],
            [
             0.6666666666666666,
             "#ed7953"
            ],
            [
             0.7777777777777778,
             "#fb9f3a"
            ],
            [
             0.8888888888888888,
             "#fdca26"
            ],
            [
             1,
             "#f0f921"
            ]
           ],
           "sequentialminus": [
            [
             0,
             "#0d0887"
            ],
            [
             0.1111111111111111,
             "#46039f"
            ],
            [
             0.2222222222222222,
             "#7201a8"
            ],
            [
             0.3333333333333333,
             "#9c179e"
            ],
            [
             0.4444444444444444,
             "#bd3786"
            ],
            [
             0.5555555555555556,
             "#d8576b"
            ],
            [
             0.6666666666666666,
             "#ed7953"
            ],
            [
             0.7777777777777778,
             "#fb9f3a"
            ],
            [
             0.8888888888888888,
             "#fdca26"
            ],
            [
             1,
             "#f0f921"
            ]
           ]
          },
          "colorway": [
           "#636efa",
           "#EF553B",
           "#00cc96",
           "#ab63fa",
           "#FFA15A",
           "#19d3f3",
           "#FF6692",
           "#B6E880",
           "#FF97FF",
           "#FECB52"
          ],
          "font": {
           "color": "#2a3f5f"
          },
          "geo": {
           "bgcolor": "white",
           "lakecolor": "white",
           "landcolor": "#E5ECF6",
           "showlakes": true,
           "showland": true,
           "subunitcolor": "white"
          },
          "hoverlabel": {
           "align": "left"
          },
          "hovermode": "closest",
          "mapbox": {
           "style": "light"
          },
          "paper_bgcolor": "white",
          "plot_bgcolor": "#E5ECF6",
          "polar": {
           "angularaxis": {
            "gridcolor": "white",
            "linecolor": "white",
            "ticks": ""
           },
           "bgcolor": "#E5ECF6",
           "radialaxis": {
            "gridcolor": "white",
            "linecolor": "white",
            "ticks": ""
           }
          },
          "scene": {
           "xaxis": {
            "backgroundcolor": "#E5ECF6",
            "gridcolor": "white",
            "gridwidth": 2,
            "linecolor": "white",
            "showbackground": true,
            "ticks": "",
            "zerolinecolor": "white"
           },
           "yaxis": {
            "backgroundcolor": "#E5ECF6",
            "gridcolor": "white",
            "gridwidth": 2,
            "linecolor": "white",
            "showbackground": true,
            "ticks": "",
            "zerolinecolor": "white"
           },
           "zaxis": {
            "backgroundcolor": "#E5ECF6",
            "gridcolor": "white",
            "gridwidth": 2,
            "linecolor": "white",
            "showbackground": true,
            "ticks": "",
            "zerolinecolor": "white"
           }
          },
          "shapedefaults": {
           "line": {
            "color": "#2a3f5f"
           }
          },
          "ternary": {
           "aaxis": {
            "gridcolor": "white",
            "linecolor": "white",
            "ticks": ""
           },
           "baxis": {
            "gridcolor": "white",
            "linecolor": "white",
            "ticks": ""
           },
           "bgcolor": "#E5ECF6",
           "caxis": {
            "gridcolor": "white",
            "linecolor": "white",
            "ticks": ""
           }
          },
          "title": {
           "x": 0.05
          },
          "xaxis": {
           "automargin": true,
           "gridcolor": "white",
           "linecolor": "white",
           "ticks": "",
           "title": {
            "standoff": 15
           },
           "zerolinecolor": "white",
           "zerolinewidth": 2
          },
          "yaxis": {
           "automargin": true,
           "gridcolor": "white",
           "linecolor": "white",
           "ticks": "",
           "title": {
            "standoff": 15
           },
           "zerolinecolor": "white",
           "zerolinewidth": 2
          }
         }
        },
        "title": {
         "text": "Lap Time Trend by Constructor - Hungaroring"
        },
        "xaxis": {
         "anchor": "y",
         "domain": [
          0,
          1
         ],
         "title": {
          "text": "year"
         }
        },
        "yaxis": {
         "anchor": "x",
         "domain": [
          0,
          1
         ],
         "title": {
          "text": "lapSeconds"
         }
        }
       }
      }
     },
     "metadata": {},
     "output_type": "display_data"
    }
   ],
   "source": [
    "circuitName = lapTimesAnalysis['circuitName'].unique()[10]\n",
    "lapTimesAnalysis['lapSeconds'] = lapTimesAnalysis['milliseconds_x'].apply(lambda x: x/1000)\n",
    "df = lapTimesAnalysis[(lapTimesAnalysis['circuitName']==circuitName)].groupby(by=['year','constructorName']).mean().reset_index()\n",
    "\n",
    "fig = px.line(\n",
    "    df,\n",
    "    x='year',\n",
    "    y='lapSeconds',\n",
    "    color='constructorName',\n",
    "    color_discrete_map=constructor_color_map,\n",
    ")\n",
    "\n",
    "fig.update_layout(\n",
    "    title_text=f'Lap Time Trend by Constructor - {circuitName}',\n",
    ")\n",
    "\n",
    "fig.update_traces(opacity=0.65)\n",
    "fig.show()\n"
   ]
  },
  {
   "cell_type": "markdown",
   "metadata": {},
   "source": [
    "Lap times by circuit\n"
   ]
  },
  {
   "cell_type": "code",
   "execution_count": 8,
   "metadata": {},
   "outputs": [
    {
     "data": {
      "application/vnd.plotly.v1+json": {
       "config": {
        "plotlyServerURL": "https://plot.ly"
       },
       "data": [
        {
         "hovertemplate": "driverName=Fernando Alonso<br>circuitName=%{x}<br>lapSeconds=%{y}<extra></extra>",
         "legendgroup": "Fernando Alonso",
         "line": {
          "color": "#636efa",
          "dash": "solid"
         },
         "marker": {
          "symbol": "circle"
         },
         "mode": "lines",
         "name": "Fernando Alonso",
         "orientation": "v",
         "showlegend": true,
         "type": "scatter",
         "x": [
          "Losail International Circuit",
          "Bahrain International Circuit",
          "Autodromo Enzo e Dino Ferrari",
          "Autódromo Internacional do Algarve",
          "Circuit de Barcelona-Catalunya",
          "Circuit de Monaco",
          "Baku City Circuit",
          "Red Bull Ring",
          "Circuit Paul Ricard",
          "Silverstone Circuit",
          "Hungaroring",
          "Circuit de Spa-Francorchamps",
          "Circuit Park Zandvoort",
          "Autodromo Nazionale di Monza",
          "Sochi Autodrom",
          "Istanbul Park",
          "Circuit of the Americas",
          "Autódromo Hermanos Rodríguez",
          "Autódromo José Carlos Pace",
          "Jeddah Corniche Circuit",
          "Yas Marina Circuit"
         ],
         "xaxis": "x",
         "y": [
          89.96364912280701,
          103.8010625,
          117.79617460317459,
          86.91256060606061,
          87.04913846153846,
          77.70535064935065,
          157.30964705882354,
          71.61204285714285,
          100.4427358490566,
          137.98801923076923,
          107.12642857142858,
          227.661,
          76.77273239436619,
          93.04841509433962,
          104.19475471698114,
          96.39663157894738,
          104.27089795918366,
          84.89678571428571,
          79.48371428571429,
          155.07548979591837,
          94.46643103448275
         ],
         "yaxis": "y"
        },
        {
         "hovertemplate": "driverName=Sergio Pérez<br>circuitName=%{x}<br>lapSeconds=%{y}<extra></extra>",
         "legendgroup": "Sergio Pérez",
         "line": {
          "color": "#EF553B",
          "dash": "solid"
         },
         "marker": {
          "symbol": "circle"
         },
         "mode": "lines",
         "name": "Sergio Pérez",
         "orientation": "v",
         "showlegend": true,
         "type": "scatter",
         "x": [
          "Losail International Circuit",
          "Bahrain International Circuit",
          "Autodromo Enzo e Dino Ferrari",
          "Autódromo Internacional do Algarve",
          "Circuit de Barcelona-Catalunya",
          "Circuit de Monaco",
          "Baku City Circuit",
          "Circuit Paul Ricard",
          "Red Bull Ring",
          "Silverstone Circuit",
          "Circuit de Spa-Francorchamps",
          "Circuit Park Zandvoort",
          "Autodromo Nazionale di Monza",
          "Sochi Autodrom",
          "Istanbul Park",
          "Circuit of the Americas",
          "Autódromo Hermanos Rodríguez",
          "Autódromo José Carlos Pace",
          "Jeddah Corniche Circuit",
          "Yas Marina Circuit"
         ],
         "xaxis": "x",
         "y": [
          90.01363157894737,
          99.57042857142858,
          117.80553968253967,
          86.53266666666667,
          85.6265303030303,
          76.37576923076924,
          157.18450980392157,
          99.14303773584906,
          70.90716197183097,
          139.5230588235294,
          245.276,
          76.80956338028169,
          92.79411320754717,
          104.35994339622641,
          94.78575862068965,
          102.12098214285713,
          83.6174366197183,
          78.63085915492958,
          193.0292142857143,
          91.86492727272727
         ],
         "yaxis": "y"
        },
        {
         "hovertemplate": "driverName=Sebastian Vettel<br>circuitName=%{x}<br>lapSeconds=%{y}<extra></extra>",
         "legendgroup": "Sebastian Vettel",
         "line": {
          "color": "#00cc96",
          "dash": "solid"
         },
         "marker": {
          "symbol": "circle"
         },
         "mode": "lines",
         "name": "Sebastian Vettel",
         "orientation": "v",
         "showlegend": true,
         "type": "scatter",
         "x": [
          "Losail International Circuit",
          "Bahrain International Circuit",
          "Autodromo Enzo e Dino Ferrari",
          "Autódromo Internacional do Algarve",
          "Circuit de Barcelona-Catalunya",
          "Circuit de Monaco",
          "Baku City Circuit",
          "Red Bull Ring",
          "Circuit Paul Ricard",
          "Silverstone Circuit",
          "Hungaroring",
          "Circuit de Spa-Francorchamps",
          "Circuit Park Zandvoort",
          "Autodromo Nazionale di Monza",
          "Sochi Autodrom",
          "Istanbul Park",
          "Circuit of the Americas",
          "Autódromo Hermanos Rodríguez",
          "Autódromo José Carlos Pace",
          "Jeddah Corniche Circuit",
          "Yas Marina Circuit"
         ],
         "xaxis": "x",
         "y": [
          90.60833928571428,
          100.95343636363637,
          119.32859016393442,
          87.37890769230769,
          86.72378461538462,
          76.78732051282051,
          157.21166666666667,
          71.72875539568345,
          100.47992452830188,
          152.3796,
          106.9294,
          214.55,
          77.49915714285714,
          93.18841509433962,
          104.65876923076924,
          96.84185964912281,
          103.85670909090909,
          84.70205714285714,
          79.54492857142857,
          161.81336363636365,
          94.56675862068965
         ],
         "yaxis": "y"
        },
        {
         "hovertemplate": "driverName=Pierre Gasly<br>circuitName=%{x}<br>lapSeconds=%{y}<extra></extra>",
         "legendgroup": "Pierre Gasly",
         "line": {
          "color": "#ab63fa",
          "dash": "solid"
         },
         "marker": {
          "symbol": "circle"
         },
         "mode": "lines",
         "name": "Pierre Gasly",
         "orientation": "v",
         "showlegend": true,
         "type": "scatter",
         "x": [
          "Losail International Circuit",
          "Bahrain International Circuit",
          "Autodromo Enzo e Dino Ferrari",
          "Autódromo Internacional do Algarve",
          "Circuit de Barcelona-Catalunya",
          "Circuit de Monaco",
          "Baku City Circuit",
          "Circuit Paul Ricard",
          "Red Bull Ring",
          "Silverstone Circuit",
          "Hungaroring",
          "Circuit de Spa-Francorchamps",
          "Circuit Park Zandvoort",
          "Autodromo Nazionale di Monza",
          "Sochi Autodrom",
          "Istanbul Park",
          "Circuit of the Americas",
          "Autódromo Hermanos Rodríguez",
          "Autódromo José Carlos Pace",
          "Jeddah Corniche Circuit",
          "Yas Marina Circuit"
         ],
         "xaxis": "x",
         "y": [
          90.70821428571428,
          101.18973076923076,
          117.57803174603175,
          87.08915151515151,
          86.56047692307692,
          76.80405128205129,
          157.2386666666667,
          100.422,
          72.50066666666666,
          138.24251923076923,
          107.81161428571428,
          217.248,
          76.29835211267606,
          106.783,
          105.34267307692306,
          94.9723275862069,
          109.07442857142857,
          84.2666338028169,
          79.24347142857143,
          152.33462,
          93.51510344827587
         ],
         "yaxis": "y"
        },
        {
         "hovertemplate": "driverName=Nikita Mazepin<br>circuitName=%{x}<br>lapSeconds=%{y}<extra></extra>",
         "legendgroup": "Nikita Mazepin",
         "line": {
          "color": "#FFA15A",
          "dash": "solid"
         },
         "marker": {
          "symbol": "circle"
         },
         "mode": "lines",
         "name": "Nikita Mazepin",
         "orientation": "v",
         "showlegend": true,
         "type": "scatter",
         "x": [
          "Losail International Circuit",
          "Autodromo Enzo e Dino Ferrari",
          "Autódromo Internacional do Algarve",
          "Circuit de Barcelona-Catalunya",
          "Circuit de Monaco",
          "Baku City Circuit",
          "Circuit Paul Ricard",
          "Red Bull Ring",
          "Silverstone Circuit",
          "Hungaroring",
          "Circuit de Spa-Francorchamps",
          "Circuit Park Zandvoort",
          "Autodromo Nazionale di Monza",
          "Sochi Autodrom",
          "Istanbul Park",
          "Circuit of the Americas",
          "Autódromo Hermanos Rodríguez",
          "Autódromo José Carlos Pace",
          "Jeddah Corniche Circuit"
         ],
         "xaxis": "x",
         "y": [
          92.8882909090909,
          121.71908196721313,
          89.70865625,
          88.14459375,
          79.66484,
          157.46519607843138,
          102.19234615384616,
          73.30216058394161,
          140.58476470588235,
          631.9576666666667,
          239.064,
          79.20370731707317,
          95.95409756097561,
          107.0004705882353,
          98.34876785714286,
          106.84564814814814,
          87.7412205882353,
          80.84157971014493,
          194.6477142857143
         ],
         "yaxis": "y"
        },
        {
         "hovertemplate": "driverName=Nicholas Latifi<br>circuitName=%{x}<br>lapSeconds=%{y}<extra></extra>",
         "legendgroup": "Nicholas Latifi",
         "line": {
          "color": "#19d3f3",
          "dash": "solid"
         },
         "marker": {
          "symbol": "circle"
         },
         "mode": "lines",
         "name": "Nicholas Latifi",
         "orientation": "v",
         "showlegend": true,
         "type": "scatter",
         "x": [
          "Losail International Circuit",
          "Bahrain International Circuit",
          "Autódromo Internacional do Algarve",
          "Circuit de Barcelona-Catalunya",
          "Circuit de Monaco",
          "Baku City Circuit",
          "Circuit Paul Ricard",
          "Red Bull Ring",
          "Silverstone Circuit",
          "Hungaroring",
          "Circuit de Spa-Francorchamps",
          "Circuit Park Zandvoort",
          "Autodromo Nazionale di Monza",
          "Sochi Autodrom",
          "Istanbul Park",
          "Circuit of the Americas",
          "Autódromo Hermanos Rodríguez",
          "Autódromo José Carlos Pace",
          "Jeddah Corniche Circuit",
          "Yas Marina Circuit"
         ],
         "xaxis": "x",
         "y": [
          91.19662,
          102.55860784313725,
          88.78,
          87.04418461538462,
          78.04811688311688,
          157.42723529411765,
          101.33117307692306,
          72.61068115942028,
          139.40427450980394,
          108.01584285714286,
          222.556,
          78.11064285714285,
          93.17184905660378,
          103.43434042553191,
          96.49331578947368,
          104.9729090909091,
          86.55617391304348,
          80.16661428571427,
          153.16734,
          92.30982
         ],
         "yaxis": "y"
        },
        {
         "hovertemplate": "driverName=Mick Schumacher<br>circuitName=%{x}<br>lapSeconds=%{y}<extra></extra>",
         "legendgroup": "Mick Schumacher",
         "line": {
          "color": "#FF6692",
          "dash": "solid"
         },
         "marker": {
          "symbol": "circle"
         },
         "mode": "lines",
         "name": "Mick Schumacher",
         "orientation": "v",
         "showlegend": true,
         "type": "scatter",
         "x": [
          "Losail International Circuit",
          "Bahrain International Circuit",
          "Autodromo Enzo e Dino Ferrari",
          "Autódromo Internacional do Algarve",
          "Circuit de Barcelona-Catalunya",
          "Circuit de Monaco",
          "Baku City Circuit",
          "Circuit Paul Ricard",
          "Red Bull Ring",
          "Silverstone Circuit",
          "Hungaroring",
          "Circuit de Spa-Francorchamps",
          "Circuit Park Zandvoort",
          "Autodromo Nazionale di Monza",
          "Sochi Autodrom",
          "Istanbul Park",
          "Circuit of the Americas",
          "Autódromo José Carlos Pace",
          "Jeddah Corniche Circuit",
          "Yas Marina Circuit"
         ],
         "xaxis": "x",
         "y": [
          91.62842857142857,
          101.83098181818181,
          120.60059016393441,
          88.732046875,
          87.3655,
          79.68425333333334,
          157.46374509803923,
          101.92128846153847,
          72.62585507246376,
          140.61554901960784,
          109.01149275362319,
          236.578,
          79.24921739130434,
          93.68779245283018,
          104.44296875,
          97.91766071428572,
          105.22525925925926,
          81.38297101449275,
          98.543,
          95.19205263157895
         ],
         "yaxis": "y"
        },
        {
         "hovertemplate": "driverName=Max Verstappen<br>circuitName=%{x}<br>lapSeconds=%{y}<extra></extra>",
         "legendgroup": "Max Verstappen",
         "line": {
          "color": "#B6E880",
          "dash": "solid"
         },
         "marker": {
          "symbol": "circle"
         },
         "mode": "lines",
         "name": "Max Verstappen",
         "orientation": "v",
         "showlegend": true,
         "type": "scatter",
         "x": [
          "Losail International Circuit",
          "Bahrain International Circuit",
          "Autodromo Enzo e Dino Ferrari",
          "Autódromo Internacional do Algarve",
          "Circuit de Barcelona-Catalunya",
          "Circuit de Monaco",
          "Baku City Circuit",
          "Circuit Paul Ricard",
          "Red Bull Ring",
          "Hungaroring",
          "Circuit de Spa-Francorchamps",
          "Circuit Park Zandvoort",
          "Autodromo Nazionale di Monza",
          "Sochi Autodrom",
          "Istanbul Park",
          "Circuit of the Americas",
          "Autódromo Hermanos Rodríguez",
          "Autódromo José Carlos Pace",
          "Jeddah Corniche Circuit",
          "Yas Marina Circuit"
         ],
         "xaxis": "x",
         "y": [
          89.37217543859649,
          98.65432142857142,
          116.7396507936508,
          86.37225757575759,
          84.90183333333333,
          76.11307692307692,
          114.12364444444445,
          98.9767924528302,
          70.23569014084508,
          108.04918571428571,
          207.071,
          75.07493055555557,
          88.54992,
          103.66550943396226,
          94.46012068965517,
          101.36699999999999,
          83.36740845070423,
          78.21615492957746,
          151.63886,
          93.4025
         ],
         "yaxis": "y"
        },
        {
         "hovertemplate": "driverName=Lewis Hamilton<br>circuitName=%{x}<br>lapSeconds=%{y}<extra></extra>",
         "legendgroup": "Lewis Hamilton",
         "line": {
          "color": "#FF97FF",
          "dash": "solid"
         },
         "marker": {
          "symbol": "circle"
         },
         "mode": "lines",
         "name": "Lewis Hamilton",
         "orientation": "v",
         "showlegend": true,
         "type": "scatter",
         "x": [
          "Losail International Circuit",
          "Bahrain International Circuit",
          "Autodromo Enzo e Dino Ferrari",
          "Autódromo Internacional do Algarve",
          "Circuit de Barcelona-Catalunya",
          "Circuit de Monaco",
          "Baku City Circuit",
          "Circuit Paul Ricard",
          "Red Bull Ring",
          "Silverstone Circuit",
          "Hungaroring",
          "Circuit de Spa-Francorchamps",
          "Circuit Park Zandvoort",
          "Autodromo Nazionale di Monza",
          "Sochi Autodrom",
          "Istanbul Park",
          "Circuit of the Americas",
          "Autódromo Hermanos Rodríguez",
          "Autódromo José Carlos Pace",
          "Jeddah Corniche Circuit",
          "Yas Marina Circuit"
         ],
         "xaxis": "x",
         "y": [
          88.92054385964911,
          98.64101785714286,
          117.08885714285714,
          85.93062121212121,
          84.66181818181819,
          76.98783333333334,
          157.5309411764706,
          99.03158490566038,
          70.81452816901408,
          136.6016153846154,
          106.94192857142856,
          209.672,
          75.36565277777778,
          87.6894,
          102.6603962264151,
          94.92956896551723,
          101.39080357142858,
          83.60057746478873,
          78.06832394366197,
          151.50235999999998,
          93.44139655172413
         ],
         "yaxis": "y"
        },
        {
         "hovertemplate": "driverName=Lando Norris<br>circuitName=%{x}<br>lapSeconds=%{y}<extra></extra>",
         "legendgroup": "Lando Norris",
         "line": {
          "color": "#FECB52",
          "dash": "solid"
         },
         "marker": {
          "symbol": "circle"
         },
         "mode": "lines",
         "name": "Lando Norris",
         "orientation": "v",
         "showlegend": true,
         "type": "scatter",
         "x": [
          "Losail International Circuit",
          "Bahrain International Circuit",
          "Autodromo Enzo e Dino Ferrari",
          "Autódromo Internacional do Algarve",
          "Circuit de Barcelona-Catalunya",
          "Circuit de Monaco",
          "Baku City Circuit",
          "Circuit Paul Ricard",
          "Red Bull Ring",
          "Silverstone Circuit",
          "Hungaroring",
          "Circuit de Spa-Francorchamps",
          "Circuit Park Zandvoort",
          "Autodromo Nazionale di Monza",
          "Sochi Autodrom",
          "Istanbul Park",
          "Circuit of the Americas",
          "Autódromo Hermanos Rodríguez",
          "Autódromo José Carlos Pace",
          "Jeddah Corniche Circuit",
          "Yas Marina Circuit"
         ],
         "xaxis": "x",
         "y": [
          90.52117857142856,
          99.47076785714286,
          117.11587301587302,
          86.70893939393939,
          86.34253846153847,
          76.36214102564102,
          157.27772549019608,
          100.18494339622642,
          70.91378014184397,
          137.15109615384614,
          164.579,
          234.181,
          76.8693661971831,
          92.75683018867925,
          104.30613207547171,
          95.02268965517241,
          102.87405357142858,
          84.93302857142857,
          79.52652857142857,
          152.72951999999998,
          94.42318965517242
         ],
         "yaxis": "y"
        },
        {
         "hovertemplate": "driverName=Lance Stroll<br>circuitName=%{x}<br>lapSeconds=%{y}<extra></extra>",
         "legendgroup": "Lance Stroll",
         "line": {
          "color": "#636efa",
          "dash": "solid"
         },
         "marker": {
          "symbol": "circle"
         },
         "mode": "lines",
         "name": "Lance Stroll",
         "orientation": "v",
         "showlegend": true,
         "type": "scatter",
         "x": [
          "Losail International Circuit",
          "Bahrain International Circuit",
          "Autodromo Enzo e Dino Ferrari",
          "Autódromo Internacional do Algarve",
          "Circuit de Barcelona-Catalunya",
          "Circuit de Monaco",
          "Baku City Circuit",
          "Red Bull Ring",
          "Circuit Paul Ricard",
          "Silverstone Circuit",
          "Circuit de Spa-Francorchamps",
          "Circuit Park Zandvoort",
          "Autodromo Nazionale di Monza",
          "Sochi Autodrom",
          "Istanbul Park",
          "Circuit of the Americas",
          "Autódromo Hermanos Rodríguez",
          "Autódromo José Carlos Pace",
          "Jeddah Corniche Circuit",
          "Yas Marina Circuit"
         ],
         "xaxis": "x",
         "y": [
          90.34640350877193,
          100.18946428571428,
          117.56360317460319,
          87.38976923076923,
          86.64103076923078,
          77.16879220779221,
          108.1124827586207,
          71.73386428571429,
          100.71162264150944,
          138.03025,
          241.179,
          77.46738571428571,
          93.02205660377358,
          104.66413207547168,
          95.62277586206896,
          104.28714545454545,
          85.89908695652174,
          82.16448936170214,
          153.0466,
          95.1811754385965
         ],
         "yaxis": "y"
        },
        {
         "hovertemplate": "driverName=Kimi Räikkönen<br>circuitName=%{x}<br>lapSeconds=%{y}<extra></extra>",
         "legendgroup": "Kimi Räikkönen",
         "line": {
          "color": "#EF553B",
          "dash": "solid"
         },
         "marker": {
          "symbol": "circle"
         },
         "mode": "lines",
         "name": "Kimi Räikkönen",
         "orientation": "v",
         "showlegend": true,
         "type": "scatter",
         "x": [
          "Losail International Circuit",
          "Bahrain International Circuit",
          "Autodromo Enzo e Dino Ferrari",
          "Autódromo Internacional do Algarve",
          "Circuit de Barcelona-Catalunya",
          "Circuit de Monaco",
          "Baku City Circuit",
          "Red Bull Ring",
          "Circuit Paul Ricard",
          "Silverstone Circuit",
          "Hungaroring",
          "Circuit de Spa-Francorchamps",
          "Sochi Autodrom",
          "Istanbul Park",
          "Circuit of the Americas",
          "Autódromo Hermanos Rodríguez",
          "Autódromo José Carlos Pace",
          "Jeddah Corniche Circuit",
          "Yas Marina Circuit"
         ],
         "xaxis": "x",
         "y": [
          91.16439285714286,
          100.22787500000001,
          117.76779365079365,
          93.673,
          86.65886153846154,
          77.6710909090909,
          157.37227450980393,
          71.87604285714286,
          101.31642307692307,
          139.42619607843136,
          108.6994347826087,
          243.125,
          104.33879245283019,
          96.15131578947368,
          104.34898181818183,
          84.77492857142857,
          79.6277,
          155.37710204081634,
          94.54444
         ],
         "yaxis": "y"
        },
        {
         "hovertemplate": "driverName=George Russell<br>circuitName=%{x}<br>lapSeconds=%{y}<extra></extra>",
         "legendgroup": "George Russell",
         "line": {
          "color": "#00cc96",
          "dash": "solid"
         },
         "marker": {
          "symbol": "circle"
         },
         "mode": "lines",
         "name": "George Russell",
         "orientation": "v",
         "showlegend": true,
         "type": "scatter",
         "x": [
          "Losail International Circuit",
          "Bahrain International Circuit",
          "Autodromo Enzo e Dino Ferrari",
          "Autódromo Internacional do Algarve",
          "Circuit de Barcelona-Catalunya",
          "Circuit de Monaco",
          "Baku City Circuit",
          "Circuit Paul Ricard",
          "Red Bull Ring",
          "Silverstone Circuit",
          "Hungaroring",
          "Circuit de Spa-Francorchamps",
          "Circuit Park Zandvoort",
          "Autodromo Nazionale di Monza",
          "Sochi Autodrom",
          "Istanbul Park",
          "Circuit of the Americas",
          "Autódromo Hermanos Rodríguez",
          "Autódromo José Carlos Pace",
          "Jeddah Corniche Circuit",
          "Yas Marina Circuit"
         ],
         "xaxis": "x",
         "y": [
          92.48198181818182,
          100.76098181818182,
          101.98156666666667,
          88.2979076923077,
          86.8684923076923,
          78.03403896103896,
          116.712625,
          101.03498076923077,
          72.79880188679245,
          139.28711764705884,
          108.03275714285714,
          209.066,
          78.19201449275361,
          93.09635849056603,
          104.55758490566038,
          96.35471929824561,
          104.39547272727273,
          86.34620289855073,
          80.01341428571429,
          194.90285714285713,
          95.03288461538462
         ],
         "yaxis": "y"
        },
        {
         "hovertemplate": "driverName=Esteban Ocon<br>circuitName=%{x}<br>lapSeconds=%{y}<extra></extra>",
         "legendgroup": "Esteban Ocon",
         "line": {
          "color": "#ab63fa",
          "dash": "solid"
         },
         "marker": {
          "symbol": "circle"
         },
         "mode": "lines",
         "name": "Esteban Ocon",
         "orientation": "v",
         "showlegend": true,
         "type": "scatter",
         "x": [
          "Losail International Circuit",
          "Bahrain International Circuit",
          "Autodromo Enzo e Dino Ferrari",
          "Autódromo Internacional do Algarve",
          "Circuit de Barcelona-Catalunya",
          "Circuit de Monaco",
          "Baku City Circuit",
          "Red Bull Ring",
          "Circuit Paul Ricard",
          "Silverstone Circuit",
          "Hungaroring",
          "Circuit de Spa-Francorchamps",
          "Circuit Park Zandvoort",
          "Autodromo Nazionale di Monza",
          "Sochi Autodrom",
          "Istanbul Park",
          "Circuit of the Americas",
          "Autódromo Hermanos Rodríguez",
          "Autódromo José Carlos Pace",
          "Jeddah Corniche Circuit",
          "Yas Marina Circuit"
         ],
         "xaxis": "x",
         "y": [
          90.33405263157896,
          100.72718181818182,
          117.78257142857143,
          86.89651515151515,
          86.55755384615385,
          77.64812987012986,
          120.56833333333334,
          71.29941428571428,
          101.1324423076923,
          138.06626923076922,
          106.90284285714286,
          218.65,
          76.82345070422535,
          93.1176037735849,
          105.59123076923076,
          96.04977192982457,
          106.166775,
          85.60655714285714,
          79.4767,
          152.05502,
          94.50639655172414
         ],
         "yaxis": "y"
        },
        {
         "hovertemplate": "driverName=Daniel Ricciardo<br>circuitName=%{x}<br>lapSeconds=%{y}<extra></extra>",
         "legendgroup": "Daniel Ricciardo",
         "line": {
          "color": "#FFA15A",
          "dash": "solid"
         },
         "marker": {
          "symbol": "circle"
         },
         "mode": "lines",
         "name": "Daniel Ricciardo",
         "orientation": "v",
         "showlegend": true,
         "type": "scatter",
         "x": [
          "Losail International Circuit",
          "Bahrain International Circuit",
          "Autodromo Enzo e Dino Ferrari",
          "Autódromo Internacional do Algarve",
          "Circuit de Barcelona-Catalunya",
          "Circuit de Monaco",
          "Baku City Circuit",
          "Circuit Paul Ricard",
          "Red Bull Ring",
          "Silverstone Circuit",
          "Hungaroring",
          "Circuit de Spa-Francorchamps",
          "Circuit Park Zandvoort",
          "Autodromo Nazionale di Monza",
          "Sochi Autodrom",
          "Istanbul Park",
          "Circuit of the Americas",
          "Autódromo Hermanos Rodríguez",
          "Autódromo José Carlos Pace",
          "Jeddah Corniche Circuit",
          "Yas Marina Circuit"
         ],
         "xaxis": "x",
         "y": [
          91.10841071428571,
          99.81966071428572,
          117.55266666666667,
          87.07257575757576,
          85.77951515151516,
          77.69901298701298,
          157.35850980392155,
          100.40805660377359,
          71.52087943262411,
          137.4213076923077,
          108.87002898550725,
          211.567,
          77.04678873239436,
          92.72386792452829,
          103.8982641509434,
          96.1960350877193,
          102.73939285714286,
          85.44250000000001,
          81.37783673469389,
          152.30478,
          95.1039649122807
         ],
         "yaxis": "y"
        },
        {
         "hovertemplate": "driverName=Charles Leclerc<br>circuitName=%{x}<br>lapSeconds=%{y}<extra></extra>",
         "legendgroup": "Charles Leclerc",
         "line": {
          "color": "#19d3f3",
          "dash": "solid"
         },
         "marker": {
          "symbol": "circle"
         },
         "mode": "lines",
         "name": "Charles Leclerc",
         "orientation": "v",
         "showlegend": true,
         "type": "scatter",
         "x": [
          "Losail International Circuit",
          "Bahrain International Circuit",
          "Autodromo Enzo e Dino Ferrari",
          "Autódromo Internacional do Algarve",
          "Circuit de Barcelona-Catalunya",
          "Baku City Circuit",
          "Circuit Paul Ricard",
          "Red Bull Ring",
          "Silverstone Circuit",
          "Circuit de Spa-Francorchamps",
          "Circuit Park Zandvoort",
          "Autodromo Nazionale di Monza",
          "Sochi Autodrom",
          "Istanbul Park",
          "Circuit of the Americas",
          "Autódromo Hermanos Rodríguez",
          "Autódromo José Carlos Pace",
          "Jeddah Corniche Circuit",
          "Yas Marina Circuit"
         ],
         "xaxis": "x",
         "y": [
          90.3788947368421,
          99.69619642857143,
          117.14566666666666,
          86.77578787878788,
          85.48933333333333,
          157.25956862745096,
          101.28161538461539,
          71.34393617021277,
          136.6760576923077,
          219.679,
          76.36866197183099,
          92.86177358490566,
          105.74346153846153,
          94.86063793103449,
          102.29996428571428,
          84.50877464788732,
          78.76574647887324,
          152.39186,
          94.54141379310344
         ],
         "yaxis": "y"
        },
        {
         "hovertemplate": "driverName=Valtteri Bottas<br>circuitName=%{x}<br>lapSeconds=%{y}<extra></extra>",
         "legendgroup": "Valtteri Bottas",
         "line": {
          "color": "#FF6692",
          "dash": "solid"
         },
         "marker": {
          "symbol": "circle"
         },
         "mode": "lines",
         "name": "Valtteri Bottas",
         "orientation": "v",
         "showlegend": true,
         "type": "scatter",
         "x": [
          "Losail International Circuit",
          "Bahrain International Circuit",
          "Autodromo Enzo e Dino Ferrari",
          "Autódromo Internacional do Algarve",
          "Circuit de Barcelona-Catalunya",
          "Circuit de Monaco",
          "Baku City Circuit",
          "Circuit Paul Ricard",
          "Red Bull Ring",
          "Silverstone Circuit",
          "Circuit de Spa-Francorchamps",
          "Circuit Park Zandvoort",
          "Autodromo Nazionale di Monza",
          "Sochi Autodrom",
          "Istanbul Park",
          "Circuit of the Americas",
          "Autódromo Hermanos Rodríguez",
          "Autódromo José Carlos Pace",
          "Jeddah Corniche Circuit",
          "Yas Marina Circuit"
         ],
         "xaxis": "x",
         "y": [
          90.83829166666668,
          99.30857142857143,
          101.96483333333335,
          86.43865151515152,
          85.065,
          76.79299999999999,
          157.4053725490196,
          99.25260377358491,
          70.69259154929577,
          136.8155576923077,
          229.485,
          75.85909722222222,
          92.81671698113207,
          103.9346037735849,
          94.20867241379311,
          102.79785714285715,
          86.26114492753624,
          78.2595352112676,
          152.05298000000002,
          93.5311724137931
         ],
         "yaxis": "y"
        },
        {
         "hovertemplate": "driverName=Carlos Sainz<br>circuitName=%{x}<br>lapSeconds=%{y}<extra></extra>",
         "legendgroup": "Carlos Sainz",
         "line": {
          "color": "#B6E880",
          "dash": "solid"
         },
         "marker": {
          "symbol": "circle"
         },
         "mode": "lines",
         "name": "Carlos Sainz",
         "orientation": "v",
         "showlegend": true,
         "type": "scatter",
         "x": [
          "Losail International Circuit",
          "Bahrain International Circuit",
          "Autodromo Enzo e Dino Ferrari",
          "Autódromo Internacional do Algarve",
          "Circuit de Barcelona-Catalunya",
          "Circuit de Monaco",
          "Baku City Circuit",
          "Circuit Paul Ricard",
          "Red Bull Ring",
          "Silverstone Circuit",
          "Hungaroring",
          "Circuit de Spa-Francorchamps",
          "Circuit Park Zandvoort",
          "Autodromo Nazionale di Monza",
          "Sochi Autodrom",
          "Istanbul Park",
          "Circuit of the Americas",
          "Autódromo Hermanos Rodríguez",
          "Autódromo José Carlos Pace",
          "Jeddah Corniche Circuit",
          "Yas Marina Circuit"
         ],
         "xaxis": "x",
         "y": [
          90.35757894736841,
          99.83923214285714,
          117.16879365079365,
          87.1269090909091,
          85.79318181818182,
          76.22805128205128,
          157.33566666666667,
          100.85107547169811,
          71.22645390070922,
          137.43726923076923,
          107.1173857142857,
          223.237,
          76.80135211267606,
          92.92264150943396,
          103.83916981132074,
          95.09705172413793,
          102.858875,
          84.5930857142857,
          78.79818309859155,
          152.43448,
          93.49168965517241
         ],
         "yaxis": "y"
        },
        {
         "hovertemplate": "driverName=Yuki Tsunoda<br>circuitName=%{x}<br>lapSeconds=%{y}<extra></extra>",
         "legendgroup": "Yuki Tsunoda",
         "line": {
          "color": "#FF97FF",
          "dash": "solid"
         },
         "marker": {
          "symbol": "circle"
         },
         "mode": "lines",
         "name": "Yuki Tsunoda",
         "orientation": "v",
         "showlegend": true,
         "type": "scatter",
         "x": [
          "Losail International Circuit",
          "Bahrain International Circuit",
          "Autodromo Enzo e Dino Ferrari",
          "Autódromo Internacional do Algarve",
          "Circuit de Barcelona-Catalunya",
          "Circuit de Monaco",
          "Baku City Circuit",
          "Circuit Paul Ricard",
          "Red Bull Ring",
          "Silverstone Circuit",
          "Hungaroring",
          "Circuit de Spa-Francorchamps",
          "Circuit Park Zandvoort",
          "Sochi Autodrom",
          "Istanbul Park",
          "Circuit of the Americas",
          "Autódromo José Carlos Pace",
          "Jeddah Corniche Circuit",
          "Yas Marina Circuit"
         ],
         "xaxis": "x",
         "y": [
          91.11423214285715,
          100.17123214285714,
          117.82193650793651,
          87.63903076923077,
          88.1965,
          78.05797402597402,
          157.31439215686274,
          101.11809615384615,
          71.6981142857143,
          138.17978846153846,
          107.98574285714287,
          235.4,
          78.26412499999999,
          106.5863076923077,
          96.28998245614036,
          103.81965454545455,
          80.10931428571429,
          155.06936734693878,
          93.50063793103449
         ],
         "yaxis": "y"
        },
        {
         "hovertemplate": "driverName=Antonio Giovinazzi<br>circuitName=%{x}<br>lapSeconds=%{y}<extra></extra>",
         "legendgroup": "Antonio Giovinazzi",
         "line": {
          "color": "#FECB52",
          "dash": "solid"
         },
         "marker": {
          "symbol": "circle"
         },
         "mode": "lines",
         "name": "Antonio Giovinazzi",
         "orientation": "v",
         "showlegend": true,
         "type": "scatter",
         "x": [
          "Losail International Circuit",
          "Bahrain International Circuit",
          "Autodromo Enzo e Dino Ferrari",
          "Autódromo Internacional do Algarve",
          "Circuit de Barcelona-Catalunya",
          "Circuit de Monaco",
          "Baku City Circuit",
          "Red Bull Ring",
          "Circuit Paul Ricard",
          "Silverstone Circuit",
          "Hungaroring",
          "Circuit de Spa-Francorchamps",
          "Circuit Park Zandvoort",
          "Autodromo Nazionale di Monza",
          "Sochi Autodrom",
          "Istanbul Park",
          "Circuit of the Americas",
          "Autódromo Hermanos Rodríguez",
          "Autódromo José Carlos Pace",
          "Jeddah Corniche Circuit",
          "Yas Marina Circuit"
         ],
         "xaxis": "x",
         "y": [
          91.60024999999999,
          100.53263636363637,
          118.81972580645161,
          87.29789230769231,
          86.89486153846154,
          77.65353246753247,
          157.38556862745097,
          71.92505714285714,
          101.21857692307692,
          139.37323529411765,
          109.02649275362319,
          231.234,
          77.61674285714285,
          93.23737735849056,
          106.22140384615385,
          96.06301754385964,
          104.02932727272727,
          85.42978571428571,
          80.04875714285716,
          152.67246,
          91.52418181818182
         ],
         "yaxis": "y"
        },
        {
         "hovertemplate": "driverName=Robert Kubica<br>circuitName=%{x}<br>lapSeconds=%{y}<extra></extra>",
         "legendgroup": "Robert Kubica",
         "line": {
          "color": "#636efa",
          "dash": "solid"
         },
         "marker": {
          "symbol": "circle"
         },
         "mode": "lines",
         "name": "Robert Kubica",
         "orientation": "v",
         "showlegend": true,
         "type": "scatter",
         "x": [
          "Circuit Park Zandvoort",
          "Autodromo Nazionale di Monza"
         ],
         "xaxis": "x",
         "y": [
          78.08361428571429,
          93.28554716981132
         ],
         "yaxis": "y"
        }
       ],
       "layout": {
        "legend": {
         "title": {
          "text": "driverName"
         },
         "tracegroupgap": 0
        },
        "margin": {
         "t": 60
        },
        "template": {
         "data": {
          "bar": [
           {
            "error_x": {
             "color": "#2a3f5f"
            },
            "error_y": {
             "color": "#2a3f5f"
            },
            "marker": {
             "line": {
              "color": "#E5ECF6",
              "width": 0.5
             },
             "pattern": {
              "fillmode": "overlay",
              "size": 10,
              "solidity": 0.2
             }
            },
            "type": "bar"
           }
          ],
          "barpolar": [
           {
            "marker": {
             "line": {
              "color": "#E5ECF6",
              "width": 0.5
             },
             "pattern": {
              "fillmode": "overlay",
              "size": 10,
              "solidity": 0.2
             }
            },
            "type": "barpolar"
           }
          ],
          "carpet": [
           {
            "aaxis": {
             "endlinecolor": "#2a3f5f",
             "gridcolor": "white",
             "linecolor": "white",
             "minorgridcolor": "white",
             "startlinecolor": "#2a3f5f"
            },
            "baxis": {
             "endlinecolor": "#2a3f5f",
             "gridcolor": "white",
             "linecolor": "white",
             "minorgridcolor": "white",
             "startlinecolor": "#2a3f5f"
            },
            "type": "carpet"
           }
          ],
          "choropleth": [
           {
            "colorbar": {
             "outlinewidth": 0,
             "ticks": ""
            },
            "type": "choropleth"
           }
          ],
          "contour": [
           {
            "colorbar": {
             "outlinewidth": 0,
             "ticks": ""
            },
            "colorscale": [
             [
              0,
              "#0d0887"
             ],
             [
              0.1111111111111111,
              "#46039f"
             ],
             [
              0.2222222222222222,
              "#7201a8"
             ],
             [
              0.3333333333333333,
              "#9c179e"
             ],
             [
              0.4444444444444444,
              "#bd3786"
             ],
             [
              0.5555555555555556,
              "#d8576b"
             ],
             [
              0.6666666666666666,
              "#ed7953"
             ],
             [
              0.7777777777777778,
              "#fb9f3a"
             ],
             [
              0.8888888888888888,
              "#fdca26"
             ],
             [
              1,
              "#f0f921"
             ]
            ],
            "type": "contour"
           }
          ],
          "contourcarpet": [
           {
            "colorbar": {
             "outlinewidth": 0,
             "ticks": ""
            },
            "type": "contourcarpet"
           }
          ],
          "heatmap": [
           {
            "colorbar": {
             "outlinewidth": 0,
             "ticks": ""
            },
            "colorscale": [
             [
              0,
              "#0d0887"
             ],
             [
              0.1111111111111111,
              "#46039f"
             ],
             [
              0.2222222222222222,
              "#7201a8"
             ],
             [
              0.3333333333333333,
              "#9c179e"
             ],
             [
              0.4444444444444444,
              "#bd3786"
             ],
             [
              0.5555555555555556,
              "#d8576b"
             ],
             [
              0.6666666666666666,
              "#ed7953"
             ],
             [
              0.7777777777777778,
              "#fb9f3a"
             ],
             [
              0.8888888888888888,
              "#fdca26"
             ],
             [
              1,
              "#f0f921"
             ]
            ],
            "type": "heatmap"
           }
          ],
          "heatmapgl": [
           {
            "colorbar": {
             "outlinewidth": 0,
             "ticks": ""
            },
            "colorscale": [
             [
              0,
              "#0d0887"
             ],
             [
              0.1111111111111111,
              "#46039f"
             ],
             [
              0.2222222222222222,
              "#7201a8"
             ],
             [
              0.3333333333333333,
              "#9c179e"
             ],
             [
              0.4444444444444444,
              "#bd3786"
             ],
             [
              0.5555555555555556,
              "#d8576b"
             ],
             [
              0.6666666666666666,
              "#ed7953"
             ],
             [
              0.7777777777777778,
              "#fb9f3a"
             ],
             [
              0.8888888888888888,
              "#fdca26"
             ],
             [
              1,
              "#f0f921"
             ]
            ],
            "type": "heatmapgl"
           }
          ],
          "histogram": [
           {
            "marker": {
             "pattern": {
              "fillmode": "overlay",
              "size": 10,
              "solidity": 0.2
             }
            },
            "type": "histogram"
           }
          ],
          "histogram2d": [
           {
            "colorbar": {
             "outlinewidth": 0,
             "ticks": ""
            },
            "colorscale": [
             [
              0,
              "#0d0887"
             ],
             [
              0.1111111111111111,
              "#46039f"
             ],
             [
              0.2222222222222222,
              "#7201a8"
             ],
             [
              0.3333333333333333,
              "#9c179e"
             ],
             [
              0.4444444444444444,
              "#bd3786"
             ],
             [
              0.5555555555555556,
              "#d8576b"
             ],
             [
              0.6666666666666666,
              "#ed7953"
             ],
             [
              0.7777777777777778,
              "#fb9f3a"
             ],
             [
              0.8888888888888888,
              "#fdca26"
             ],
             [
              1,
              "#f0f921"
             ]
            ],
            "type": "histogram2d"
           }
          ],
          "histogram2dcontour": [
           {
            "colorbar": {
             "outlinewidth": 0,
             "ticks": ""
            },
            "colorscale": [
             [
              0,
              "#0d0887"
             ],
             [
              0.1111111111111111,
              "#46039f"
             ],
             [
              0.2222222222222222,
              "#7201a8"
             ],
             [
              0.3333333333333333,
              "#9c179e"
             ],
             [
              0.4444444444444444,
              "#bd3786"
             ],
             [
              0.5555555555555556,
              "#d8576b"
             ],
             [
              0.6666666666666666,
              "#ed7953"
             ],
             [
              0.7777777777777778,
              "#fb9f3a"
             ],
             [
              0.8888888888888888,
              "#fdca26"
             ],
             [
              1,
              "#f0f921"
             ]
            ],
            "type": "histogram2dcontour"
           }
          ],
          "mesh3d": [
           {
            "colorbar": {
             "outlinewidth": 0,
             "ticks": ""
            },
            "type": "mesh3d"
           }
          ],
          "parcoords": [
           {
            "line": {
             "colorbar": {
              "outlinewidth": 0,
              "ticks": ""
             }
            },
            "type": "parcoords"
           }
          ],
          "pie": [
           {
            "automargin": true,
            "type": "pie"
           }
          ],
          "scatter": [
           {
            "fillpattern": {
             "fillmode": "overlay",
             "size": 10,
             "solidity": 0.2
            },
            "type": "scatter"
           }
          ],
          "scatter3d": [
           {
            "line": {
             "colorbar": {
              "outlinewidth": 0,
              "ticks": ""
             }
            },
            "marker": {
             "colorbar": {
              "outlinewidth": 0,
              "ticks": ""
             }
            },
            "type": "scatter3d"
           }
          ],
          "scattercarpet": [
           {
            "marker": {
             "colorbar": {
              "outlinewidth": 0,
              "ticks": ""
             }
            },
            "type": "scattercarpet"
           }
          ],
          "scattergeo": [
           {
            "marker": {
             "colorbar": {
              "outlinewidth": 0,
              "ticks": ""
             }
            },
            "type": "scattergeo"
           }
          ],
          "scattergl": [
           {
            "marker": {
             "colorbar": {
              "outlinewidth": 0,
              "ticks": ""
             }
            },
            "type": "scattergl"
           }
          ],
          "scattermapbox": [
           {
            "marker": {
             "colorbar": {
              "outlinewidth": 0,
              "ticks": ""
             }
            },
            "type": "scattermapbox"
           }
          ],
          "scatterpolar": [
           {
            "marker": {
             "colorbar": {
              "outlinewidth": 0,
              "ticks": ""
             }
            },
            "type": "scatterpolar"
           }
          ],
          "scatterpolargl": [
           {
            "marker": {
             "colorbar": {
              "outlinewidth": 0,
              "ticks": ""
             }
            },
            "type": "scatterpolargl"
           }
          ],
          "scatterternary": [
           {
            "marker": {
             "colorbar": {
              "outlinewidth": 0,
              "ticks": ""
             }
            },
            "type": "scatterternary"
           }
          ],
          "surface": [
           {
            "colorbar": {
             "outlinewidth": 0,
             "ticks": ""
            },
            "colorscale": [
             [
              0,
              "#0d0887"
             ],
             [
              0.1111111111111111,
              "#46039f"
             ],
             [
              0.2222222222222222,
              "#7201a8"
             ],
             [
              0.3333333333333333,
              "#9c179e"
             ],
             [
              0.4444444444444444,
              "#bd3786"
             ],
             [
              0.5555555555555556,
              "#d8576b"
             ],
             [
              0.6666666666666666,
              "#ed7953"
             ],
             [
              0.7777777777777778,
              "#fb9f3a"
             ],
             [
              0.8888888888888888,
              "#fdca26"
             ],
             [
              1,
              "#f0f921"
             ]
            ],
            "type": "surface"
           }
          ],
          "table": [
           {
            "cells": {
             "fill": {
              "color": "#EBF0F8"
             },
             "line": {
              "color": "white"
             }
            },
            "header": {
             "fill": {
              "color": "#C8D4E3"
             },
             "line": {
              "color": "white"
             }
            },
            "type": "table"
           }
          ]
         },
         "layout": {
          "annotationdefaults": {
           "arrowcolor": "#2a3f5f",
           "arrowhead": 0,
           "arrowwidth": 1
          },
          "autotypenumbers": "strict",
          "coloraxis": {
           "colorbar": {
            "outlinewidth": 0,
            "ticks": ""
           }
          },
          "colorscale": {
           "diverging": [
            [
             0,
             "#8e0152"
            ],
            [
             0.1,
             "#c51b7d"
            ],
            [
             0.2,
             "#de77ae"
            ],
            [
             0.3,
             "#f1b6da"
            ],
            [
             0.4,
             "#fde0ef"
            ],
            [
             0.5,
             "#f7f7f7"
            ],
            [
             0.6,
             "#e6f5d0"
            ],
            [
             0.7,
             "#b8e186"
            ],
            [
             0.8,
             "#7fbc41"
            ],
            [
             0.9,
             "#4d9221"
            ],
            [
             1,
             "#276419"
            ]
           ],
           "sequential": [
            [
             0,
             "#0d0887"
            ],
            [
             0.1111111111111111,
             "#46039f"
            ],
            [
             0.2222222222222222,
             "#7201a8"
            ],
            [
             0.3333333333333333,
             "#9c179e"
            ],
            [
             0.4444444444444444,
             "#bd3786"
            ],
            [
             0.5555555555555556,
             "#d8576b"
            ],
            [
             0.6666666666666666,
             "#ed7953"
            ],
            [
             0.7777777777777778,
             "#fb9f3a"
            ],
            [
             0.8888888888888888,
             "#fdca26"
            ],
            [
             1,
             "#f0f921"
            ]
           ],
           "sequentialminus": [
            [
             0,
             "#0d0887"
            ],
            [
             0.1111111111111111,
             "#46039f"
            ],
            [
             0.2222222222222222,
             "#7201a8"
            ],
            [
             0.3333333333333333,
             "#9c179e"
            ],
            [
             0.4444444444444444,
             "#bd3786"
            ],
            [
             0.5555555555555556,
             "#d8576b"
            ],
            [
             0.6666666666666666,
             "#ed7953"
            ],
            [
             0.7777777777777778,
             "#fb9f3a"
            ],
            [
             0.8888888888888888,
             "#fdca26"
            ],
            [
             1,
             "#f0f921"
            ]
           ]
          },
          "colorway": [
           "#636efa",
           "#EF553B",
           "#00cc96",
           "#ab63fa",
           "#FFA15A",
           "#19d3f3",
           "#FF6692",
           "#B6E880",
           "#FF97FF",
           "#FECB52"
          ],
          "font": {
           "color": "#2a3f5f"
          },
          "geo": {
           "bgcolor": "white",
           "lakecolor": "white",
           "landcolor": "#E5ECF6",
           "showlakes": true,
           "showland": true,
           "subunitcolor": "white"
          },
          "hoverlabel": {
           "align": "left"
          },
          "hovermode": "closest",
          "mapbox": {
           "style": "light"
          },
          "paper_bgcolor": "white",
          "plot_bgcolor": "#E5ECF6",
          "polar": {
           "angularaxis": {
            "gridcolor": "white",
            "linecolor": "white",
            "ticks": ""
           },
           "bgcolor": "#E5ECF6",
           "radialaxis": {
            "gridcolor": "white",
            "linecolor": "white",
            "ticks": ""
           }
          },
          "scene": {
           "xaxis": {
            "backgroundcolor": "#E5ECF6",
            "gridcolor": "white",
            "gridwidth": 2,
            "linecolor": "white",
            "showbackground": true,
            "ticks": "",
            "zerolinecolor": "white"
           },
           "yaxis": {
            "backgroundcolor": "#E5ECF6",
            "gridcolor": "white",
            "gridwidth": 2,
            "linecolor": "white",
            "showbackground": true,
            "ticks": "",
            "zerolinecolor": "white"
           },
           "zaxis": {
            "backgroundcolor": "#E5ECF6",
            "gridcolor": "white",
            "gridwidth": 2,
            "linecolor": "white",
            "showbackground": true,
            "ticks": "",
            "zerolinecolor": "white"
           }
          },
          "shapedefaults": {
           "line": {
            "color": "#2a3f5f"
           }
          },
          "ternary": {
           "aaxis": {
            "gridcolor": "white",
            "linecolor": "white",
            "ticks": ""
           },
           "baxis": {
            "gridcolor": "white",
            "linecolor": "white",
            "ticks": ""
           },
           "bgcolor": "#E5ECF6",
           "caxis": {
            "gridcolor": "white",
            "linecolor": "white",
            "ticks": ""
           }
          },
          "title": {
           "x": 0.05
          },
          "xaxis": {
           "automargin": true,
           "gridcolor": "white",
           "linecolor": "white",
           "ticks": "",
           "title": {
            "standoff": 15
           },
           "zerolinecolor": "white",
           "zerolinewidth": 2
          },
          "yaxis": {
           "automargin": true,
           "gridcolor": "white",
           "linecolor": "white",
           "ticks": "",
           "title": {
            "standoff": 15
           },
           "zerolinecolor": "white",
           "zerolinewidth": 2
          }
         }
        },
        "title": {
         "text": "Average Lap Times by Circuit - 2021"
        },
        "xaxis": {
         "anchor": "y",
         "domain": [
          0,
          1
         ],
         "title": {
          "text": "circuitName"
         }
        },
        "yaxis": {
         "anchor": "x",
         "domain": [
          0,
          1
         ],
         "title": {
          "text": "lapSeconds"
         }
        }
       }
      }
     },
     "metadata": {},
     "output_type": "display_data"
    }
   ],
   "source": [
    "year = 2021\n",
    "circuitName = lapTimesAnalysis['circuitName'].unique()[5]\n",
    "driverList = lapTimesAnalysis[(lapTimesAnalysis['year']==year)]['driverName'].unique()\n",
    "df = lapTimesAnalysis[(lapTimesAnalysis['year']==year)&(lapTimesAnalysis['driverName'].isin(driverList))].groupby(by=['circuitName','year','driverName']).mean().reset_index().sort_values(by='raceId')[['year','lap','lapSeconds','driverName','circuitName']]\n",
    "\n",
    "fig = px.line(\n",
    "    data_frame = df,\n",
    "    x='circuitName',\n",
    "    y='lapSeconds',\n",
    "    color='driverName',\n",
    ")\n",
    "\n",
    "fig.update_layout(\n",
    "    title_text=f'Average Lap Times by Circuit - {year}',\n",
    ")\n",
    "fig.show()"
   ]
  },
  {
   "cell_type": "code",
   "execution_count": 9,
   "metadata": {},
   "outputs": [
    {
     "data": {
      "text/html": [
       "<div>\n",
       "<style scoped>\n",
       "    .dataframe tbody tr th:only-of-type {\n",
       "        vertical-align: middle;\n",
       "    }\n",
       "\n",
       "    .dataframe tbody tr th {\n",
       "        vertical-align: top;\n",
       "    }\n",
       "\n",
       "    .dataframe thead th {\n",
       "        text-align: right;\n",
       "    }\n",
       "</style>\n",
       "<table border=\"1\" class=\"dataframe\">\n",
       "  <thead>\n",
       "    <tr style=\"text-align: right;\">\n",
       "      <th></th>\n",
       "      <th>raceId</th>\n",
       "      <th>driverId</th>\n",
       "      <th>constructorId</th>\n",
       "      <th>number</th>\n",
       "      <th>position</th>\n",
       "      <th>q1</th>\n",
       "      <th>q2</th>\n",
       "      <th>q3</th>\n",
       "    </tr>\n",
       "    <tr>\n",
       "      <th>qualifyId</th>\n",
       "      <th></th>\n",
       "      <th></th>\n",
       "      <th></th>\n",
       "      <th></th>\n",
       "      <th></th>\n",
       "      <th></th>\n",
       "      <th></th>\n",
       "      <th></th>\n",
       "    </tr>\n",
       "  </thead>\n",
       "  <tbody>\n",
       "    <tr>\n",
       "      <th>1</th>\n",
       "      <td>18</td>\n",
       "      <td>1</td>\n",
       "      <td>1</td>\n",
       "      <td>22</td>\n",
       "      <td>1</td>\n",
       "      <td>1:26.572</td>\n",
       "      <td>1:25.187</td>\n",
       "      <td>1:26.714</td>\n",
       "    </tr>\n",
       "    <tr>\n",
       "      <th>2</th>\n",
       "      <td>18</td>\n",
       "      <td>9</td>\n",
       "      <td>2</td>\n",
       "      <td>4</td>\n",
       "      <td>2</td>\n",
       "      <td>1:26.103</td>\n",
       "      <td>1:25.315</td>\n",
       "      <td>1:26.869</td>\n",
       "    </tr>\n",
       "    <tr>\n",
       "      <th>3</th>\n",
       "      <td>18</td>\n",
       "      <td>5</td>\n",
       "      <td>1</td>\n",
       "      <td>23</td>\n",
       "      <td>3</td>\n",
       "      <td>1:25.664</td>\n",
       "      <td>1:25.452</td>\n",
       "      <td>1:27.079</td>\n",
       "    </tr>\n",
       "    <tr>\n",
       "      <th>4</th>\n",
       "      <td>18</td>\n",
       "      <td>13</td>\n",
       "      <td>6</td>\n",
       "      <td>2</td>\n",
       "      <td>4</td>\n",
       "      <td>1:25.994</td>\n",
       "      <td>1:25.691</td>\n",
       "      <td>1:27.178</td>\n",
       "    </tr>\n",
       "    <tr>\n",
       "      <th>5</th>\n",
       "      <td>18</td>\n",
       "      <td>2</td>\n",
       "      <td>2</td>\n",
       "      <td>3</td>\n",
       "      <td>5</td>\n",
       "      <td>1:25.960</td>\n",
       "      <td>1:25.518</td>\n",
       "      <td>1:27.236</td>\n",
       "    </tr>\n",
       "  </tbody>\n",
       "</table>\n",
       "</div>"
      ],
      "text/plain": [
       "           raceId  driverId  constructorId  number  position        q1  \\\n",
       "qualifyId                                                                \n",
       "1              18         1              1      22         1  1:26.572   \n",
       "2              18         9              2       4         2  1:26.103   \n",
       "3              18         5              1      23         3  1:25.664   \n",
       "4              18        13              6       2         4  1:25.994   \n",
       "5              18         2              2       3         5  1:25.960   \n",
       "\n",
       "                 q2        q3  \n",
       "qualifyId                      \n",
       "1          1:25.187  1:26.714  \n",
       "2          1:25.315  1:26.869  \n",
       "3          1:25.452  1:27.079  \n",
       "4          1:25.691  1:27.178  \n",
       "5          1:25.518  1:27.236  "
      ]
     },
     "execution_count": 9,
     "metadata": {},
     "output_type": "execute_result"
    }
   ],
   "source": [
    "qualifying.head()"
   ]
  },
  {
   "cell_type": "markdown",
   "metadata": {},
   "source": [
    "### Regression\n"
   ]
  },
  {
   "cell_type": "code",
   "execution_count": 10,
   "metadata": {},
   "outputs": [
    {
     "data": {
      "text/html": [
       "<div>\n",
       "<style scoped>\n",
       "    .dataframe tbody tr th:only-of-type {\n",
       "        vertical-align: middle;\n",
       "    }\n",
       "\n",
       "    .dataframe tbody tr th {\n",
       "        vertical-align: top;\n",
       "    }\n",
       "\n",
       "    .dataframe thead th {\n",
       "        text-align: right;\n",
       "    }\n",
       "</style>\n",
       "<table border=\"1\" class=\"dataframe\">\n",
       "  <thead>\n",
       "    <tr style=\"text-align: right;\">\n",
       "      <th></th>\n",
       "      <th>raceId</th>\n",
       "      <th>year</th>\n",
       "      <th>round</th>\n",
       "      <th>circuitId</th>\n",
       "      <th>name</th>\n",
       "      <th>date</th>\n",
       "      <th>time_x</th>\n",
       "      <th>driverId</th>\n",
       "      <th>constructorId_x</th>\n",
       "      <th>number_x</th>\n",
       "      <th>...</th>\n",
       "      <th>points_y</th>\n",
       "      <th>position_y</th>\n",
       "      <th>positionText</th>\n",
       "      <th>wins_y</th>\n",
       "      <th>constructorId_y</th>\n",
       "      <th>number_y</th>\n",
       "      <th>position</th>\n",
       "      <th>q1</th>\n",
       "      <th>q2</th>\n",
       "      <th>q3</th>\n",
       "    </tr>\n",
       "  </thead>\n",
       "  <tbody>\n",
       "    <tr>\n",
       "      <th>0</th>\n",
       "      <td>18</td>\n",
       "      <td>2008.0</td>\n",
       "      <td>1.0</td>\n",
       "      <td>1.0</td>\n",
       "      <td>Australian Grand Prix</td>\n",
       "      <td>2008-03-16</td>\n",
       "      <td>04:30:00</td>\n",
       "      <td>1</td>\n",
       "      <td>1.0</td>\n",
       "      <td>22.0</td>\n",
       "      <td>...</td>\n",
       "      <td>14.0</td>\n",
       "      <td>1.0</td>\n",
       "      <td>1</td>\n",
       "      <td>1.0</td>\n",
       "      <td>1</td>\n",
       "      <td>22</td>\n",
       "      <td>1</td>\n",
       "      <td>1:26.572</td>\n",
       "      <td>1:25.187</td>\n",
       "      <td>1:26.714</td>\n",
       "    </tr>\n",
       "    <tr>\n",
       "      <th>1</th>\n",
       "      <td>18</td>\n",
       "      <td>2008.0</td>\n",
       "      <td>1.0</td>\n",
       "      <td>1.0</td>\n",
       "      <td>Australian Grand Prix</td>\n",
       "      <td>2008-03-16</td>\n",
       "      <td>04:30:00</td>\n",
       "      <td>2</td>\n",
       "      <td>2.0</td>\n",
       "      <td>3.0</td>\n",
       "      <td>...</td>\n",
       "      <td>8.0</td>\n",
       "      <td>3.0</td>\n",
       "      <td>3</td>\n",
       "      <td>0.0</td>\n",
       "      <td>2</td>\n",
       "      <td>3</td>\n",
       "      <td>5</td>\n",
       "      <td>1:25.960</td>\n",
       "      <td>1:25.518</td>\n",
       "      <td>1:27.236</td>\n",
       "    </tr>\n",
       "    <tr>\n",
       "      <th>2</th>\n",
       "      <td>18</td>\n",
       "      <td>2008.0</td>\n",
       "      <td>1.0</td>\n",
       "      <td>1.0</td>\n",
       "      <td>Australian Grand Prix</td>\n",
       "      <td>2008-03-16</td>\n",
       "      <td>04:30:00</td>\n",
       "      <td>3</td>\n",
       "      <td>3.0</td>\n",
       "      <td>7.0</td>\n",
       "      <td>...</td>\n",
       "      <td>9.0</td>\n",
       "      <td>2.0</td>\n",
       "      <td>2</td>\n",
       "      <td>0.0</td>\n",
       "      <td>3</td>\n",
       "      <td>7</td>\n",
       "      <td>7</td>\n",
       "      <td>1:26.295</td>\n",
       "      <td>1:26.059</td>\n",
       "      <td>1:28.687</td>\n",
       "    </tr>\n",
       "    <tr>\n",
       "      <th>3</th>\n",
       "      <td>18</td>\n",
       "      <td>2008.0</td>\n",
       "      <td>1.0</td>\n",
       "      <td>1.0</td>\n",
       "      <td>Australian Grand Prix</td>\n",
       "      <td>2008-03-16</td>\n",
       "      <td>04:30:00</td>\n",
       "      <td>4</td>\n",
       "      <td>4.0</td>\n",
       "      <td>5.0</td>\n",
       "      <td>...</td>\n",
       "      <td>5.0</td>\n",
       "      <td>4.0</td>\n",
       "      <td>4</td>\n",
       "      <td>0.0</td>\n",
       "      <td>4</td>\n",
       "      <td>5</td>\n",
       "      <td>12</td>\n",
       "      <td>1:26.907</td>\n",
       "      <td>1:26.188</td>\n",
       "      <td>NaN</td>\n",
       "    </tr>\n",
       "    <tr>\n",
       "      <th>4</th>\n",
       "      <td>18</td>\n",
       "      <td>2008.0</td>\n",
       "      <td>1.0</td>\n",
       "      <td>1.0</td>\n",
       "      <td>Australian Grand Prix</td>\n",
       "      <td>2008-03-16</td>\n",
       "      <td>04:30:00</td>\n",
       "      <td>5</td>\n",
       "      <td>1.0</td>\n",
       "      <td>23.0</td>\n",
       "      <td>...</td>\n",
       "      <td>14.0</td>\n",
       "      <td>1.0</td>\n",
       "      <td>1</td>\n",
       "      <td>1.0</td>\n",
       "      <td>1</td>\n",
       "      <td>23</td>\n",
       "      <td>3</td>\n",
       "      <td>1:25.664</td>\n",
       "      <td>1:25.452</td>\n",
       "      <td>1:27.079</td>\n",
       "    </tr>\n",
       "  </tbody>\n",
       "</table>\n",
       "<p>5 rows × 36 columns</p>\n",
       "</div>"
      ],
      "text/plain": [
       "   raceId    year  round  circuitId                   name       date  \\\n",
       "0      18  2008.0    1.0        1.0  Australian Grand Prix 2008-03-16   \n",
       "1      18  2008.0    1.0        1.0  Australian Grand Prix 2008-03-16   \n",
       "2      18  2008.0    1.0        1.0  Australian Grand Prix 2008-03-16   \n",
       "3      18  2008.0    1.0        1.0  Australian Grand Prix 2008-03-16   \n",
       "4      18  2008.0    1.0        1.0  Australian Grand Prix 2008-03-16   \n",
       "\n",
       "     time_x  driverId  constructorId_x  number_x  ...  points_y  position_y  \\\n",
       "0  04:30:00         1              1.0      22.0  ...      14.0         1.0   \n",
       "1  04:30:00         2              2.0       3.0  ...       8.0         3.0   \n",
       "2  04:30:00         3              3.0       7.0  ...       9.0         2.0   \n",
       "3  04:30:00         4              4.0       5.0  ...       5.0         4.0   \n",
       "4  04:30:00         5              1.0      23.0  ...      14.0         1.0   \n",
       "\n",
       "  positionText  wins_y  constructorId_y number_y  position        q1  \\\n",
       "0            1     1.0                1       22         1  1:26.572   \n",
       "1            3     0.0                2        3         5  1:25.960   \n",
       "2            2     0.0                3        7         7  1:26.295   \n",
       "3            4     0.0                4        5        12  1:26.907   \n",
       "4            1     1.0                1       23         3  1:25.664   \n",
       "\n",
       "         q2        q3  \n",
       "0  1:25.187  1:26.714  \n",
       "1  1:25.518  1:27.236  \n",
       "2  1:26.059  1:28.687  \n",
       "3  1:26.188       NaN  \n",
       "4  1:25.452  1:27.079  \n",
       "\n",
       "[5 rows x 36 columns]"
      ]
     },
     "execution_count": 10,
     "metadata": {},
     "output_type": "execute_result"
    }
   ],
   "source": [
    "\n",
    "\n",
    "\n",
    "df2 = pd.merge(races, results, how='inner', on=['raceId']).drop(['url','points'], axis = 1)\n",
    "df3 = pd.merge(df2, driverStandings, how='right', on=['raceId', 'driverId', 'position']) \n",
    "df3\n",
    "df4 = pd.merge(df3, constructorStandings, how='left', on=['raceId', 'constructorId']) #from 1958\n",
    "final_df = pd.merge(df4, qualifying, how='inner', on=['raceId', 'driverId']) #from 1983\n",
    "\n",
    "final_df.head()\n"
   ]
  },
  {
   "cell_type": "code",
   "execution_count": 11,
   "metadata": {},
   "outputs": [],
   "source": [
    "## Using final Data\n",
    "df = pd.read_csv('data/final_merge.csv')\n",
    "np.set_printoptions(precision=4)\n",
    "comparison_dict ={'model':[],\n",
    "                  'params': [],\n",
    "                  'score': []}\n",
    "import numpy as np\n",
    "import pandas as pd\n",
    "from sklearn.metrics import confusion_matrix, precision_score\n",
    "from sklearn.linear_model import LogisticRegression, LinearRegression\n",
    "from sklearn import svm\n",
    "from sklearn.preprocessing import StandardScaler, MinMaxScaler\n",
    "from sklearn.ensemble import RandomForestClassifier, RandomForestRegressor\n",
    "from sklearn.neural_network import MLPClassifier, MLPRegressor\n",
    "\n",
    "np.set_printoptions(precision=4)\n"
   ]
  },
  {
   "cell_type": "code",
   "execution_count": 12,
   "metadata": {},
   "outputs": [],
   "source": [
    "train = df[df.season <2019]\n",
    "X_train = train.drop(['driver', 'podium'], axis = 1)\n",
    "y_train = train.podium\n",
    "\n",
    "scaler = StandardScaler()\n",
    "X_train = pd.DataFrame(scaler.fit_transform(X_train), columns = X_train.columns)\n",
    "\n",
    "def score_regression(model):\n",
    "    score = 0\n",
    "    for circuit in df[df.season == 2019]['round'].unique():\n",
    "\n",
    "        test = df[(df.season == 2019) & (df['round'] == circuit)]\n",
    "        X_test = test.drop(['driver', 'podium'], axis = 1)\n",
    "        y_test = test.podium\n",
    "\n",
    "        #scaling\n",
    "        X_test = pd.DataFrame(scaler.transform(X_test), columns = X_test.columns)\n",
    "\n",
    "        # make predictions\n",
    "        prediction_df = pd.DataFrame(model.predict(X_test), columns = ['results'])\n",
    "        prediction_df['podium'] = y_test.reset_index(drop = True)\n",
    "        prediction_df['actual'] = prediction_df.podium.map(lambda x: 1 if x == 1 else 0)\n",
    "        prediction_df.sort_values('results', ascending = True, inplace = True)\n",
    "        prediction_df.reset_index(inplace = True, drop = True)\n",
    "        prediction_df['predicted'] = prediction_df.index\n",
    "        prediction_df['predicted'] = prediction_df.predicted.map(lambda x: 1 if x == 0 else 0)\n",
    "\n",
    "        score += precision_score(prediction_df.actual, prediction_df.predicted)\n",
    "\n",
    "    model_score = score / df[df.season == 2019]['round'].unique().max()\n",
    "    return model_score"
   ]
  },
  {
   "cell_type": "code",
   "execution_count": 13,
   "metadata": {},
   "outputs": [
    {
     "data": {
      "image/png": "[encoded data removed]",
      "text/plain": [
       "<Figure size 648x504 with 1 Axes>"
      ]
     },
     "metadata": {
      "needs_background": "light"
     },
     "output_type": "display_data"
    }
   ],
   "source": [
    "# Linear Regression\n",
    "\n",
    "params={'fit_intercept': ['True', 'False']}\n",
    "\n",
    "for fit_intercept in params['fit_intercept']:\n",
    "    model_params = (fit_intercept)\n",
    "    model = LinearRegression(fit_intercept = fit_intercept)\n",
    "    model.fit(X_train, y_train)\n",
    "            \n",
    "    model_score = score_regression(model)\n",
    "            \n",
    "    comparison_dict['model'].append('linear_regression')\n",
    "    comparison_dict['params'].append(model_params)\n",
    "    comparison_dict['score'].append(model_score)\n",
    "\n",
    "coefs = pd.DataFrame(\n",
    "   abs(model.coef_),\n",
    "   columns=['Coefficients'], index=X_train.columns\n",
    ")\n",
    "coefs = coefs.nlargest(10,'Coefficients')\n",
    "coefs.plot(kind='barh', figsize=(9, 7))\n",
    "plt.title('Ridge model')\n",
    "plt.axvline(x=0, color='.5')\n",
    "plt.subplots_adjust(left=.3)"
   ]
  },
  {
   "cell_type": "code",
   "execution_count": 14,
   "metadata": {},
   "outputs": [],
   "source": [
    "# Neural network\n",
    "\n",
    "# params={'hidden_layer_sizes': [(80,20,40,5), (75,30,50,10,3)], \n",
    "#         'activation': ['identity', 'relu','logistic', 'tanh',], \n",
    "#         'solver': ['lbfgs','sgd', 'adam'], \n",
    "#         'alpha': np.logspace(-4,1,20)} \n",
    "# params ={'hidden_layer_sizes':[(75,25,50,10)],\n",
    "#     'activation': ['identity'],\n",
    "#     'solver':['lbfgs'],\n",
    "#     'alpha': [0.016]}\n",
    "\n",
    "# for hidden_layer_sizes in params['hidden_layer_sizes']:\n",
    "#     for activation in params['activation']:\n",
    "#         for solver in params['solver']:\n",
    "#             for alpha in params['alpha']:\n",
    "#                 model_params = (hidden_layer_sizes, activation, solver, alpha )\n",
    "#                 model = MLPRegressor(hidden_layer_sizes = hidden_layer_sizes,\n",
    "#                                       activation = activation, solver = solver, alpha = alpha, random_state = 1)\n",
    "#                 model.fit(X_train, y_train)\n",
    "\n",
    "#                 model_score = score_regression(model)\n",
    "\n",
    "#                 comparison_dict['model'].append('nn_regressor')\n",
    "#                 comparison_dict['params'].append(model_params)\n",
    "#                 comparison_dict['score'].append(model_score)"
   ]
  },
  {
   "cell_type": "code",
   "execution_count": 15,
   "metadata": {},
   "outputs": [
    {
     "data": {
      "text/plain": [
       "model\n",
       "linear_regression    0.47619\n",
       "Name: score, dtype: float64"
      ]
     },
     "execution_count": 15,
     "metadata": {},
     "output_type": "execute_result"
    }
   ],
   "source": [
    "pd.DataFrame(comparison_dict).groupby('model')['score'].max()"
   ]
  },
  {
   "cell_type": "markdown",
   "metadata": {},
   "source": [
    "Classification\n"
   ]
  },
  {
   "cell_type": "code",
   "execution_count": 26,
   "metadata": {},
   "outputs": [
    {
     "name": "stdout",
     "output_type": "stream",
     "text": [
      "0     0\n",
      "1     1\n",
      "2     0\n",
      "3     0\n",
      "4     0\n",
      "5     0\n",
      "6     0\n",
      "7     0\n",
      "8     0\n",
      "9     0\n",
      "10    0\n",
      "11    0\n",
      "12    0\n",
      "13    0\n",
      "14    0\n",
      "15    0\n",
      "16    0\n",
      "17    0\n",
      "18    0\n",
      "19    0\n",
      "Name: actual, dtype: int64\n",
      "0     1\n",
      "1     0\n",
      "2     0\n",
      "3     0\n",
      "4     0\n",
      "5     0\n",
      "6     0\n",
      "7     0\n",
      "8     0\n",
      "9     0\n",
      "10    0\n",
      "11    0\n",
      "12    0\n",
      "13    0\n",
      "14    0\n",
      "15    0\n",
      "16    0\n",
      "17    0\n",
      "18    0\n",
      "19    0\n",
      "Name: actual, dtype: int64\n",
      "0     1\n",
      "1     0\n",
      "2     0\n",
      "3     0\n",
      "4     0\n",
      "5     0\n",
      "6     0\n",
      "7     0\n",
      "8     0\n",
      "9     0\n",
      "10    0\n",
      "11    0\n",
      "12    0\n",
      "13    0\n",
      "14    0\n",
      "15    0\n",
      "Name: actual, dtype: int64\n",
      "0     0\n",
      "1     1\n",
      "2     0\n",
      "3     0\n",
      "4     0\n",
      "5     0\n",
      "6     0\n",
      "7     0\n",
      "8     0\n",
      "9     0\n",
      "10    0\n",
      "11    0\n",
      "12    0\n",
      "13    0\n",
      "14    0\n",
      "15    0\n",
      "Name: actual, dtype: int64\n",
      "0     1\n",
      "1     0\n",
      "2     0\n",
      "3     0\n",
      "4     0\n",
      "5     0\n",
      "6     0\n",
      "7     0\n",
      "8     0\n",
      "9     0\n",
      "10    0\n",
      "11    0\n",
      "12    0\n",
      "13    0\n",
      "14    0\n",
      "15    0\n",
      "16    0\n",
      "17    0\n",
      "18    0\n",
      "Name: actual, dtype: int64\n",
      "0     1\n",
      "1     0\n",
      "2     0\n",
      "3     0\n",
      "4     0\n",
      "5     0\n",
      "6     0\n",
      "7     0\n",
      "8     0\n",
      "9     0\n",
      "10    0\n",
      "11    0\n",
      "12    0\n",
      "13    0\n",
      "14    0\n",
      "15    0\n",
      "16    0\n",
      "17    0\n",
      "18    0\n",
      "19    0\n",
      "Name: actual, dtype: int64\n",
      "0     1\n",
      "1     0\n",
      "2     0\n",
      "3     0\n",
      "4     0\n",
      "5     0\n",
      "6     0\n",
      "7     0\n",
      "8     0\n",
      "9     0\n",
      "10    0\n",
      "11    0\n",
      "12    0\n",
      "13    0\n",
      "14    0\n",
      "15    0\n",
      "16    0\n",
      "17    0\n",
      "Name: actual, dtype: int64\n",
      "0     1\n",
      "1     0\n",
      "2     0\n",
      "3     0\n",
      "4     0\n",
      "5     0\n",
      "6     0\n",
      "7     0\n",
      "8     0\n",
      "9     0\n",
      "10    0\n",
      "11    0\n",
      "12    0\n",
      "13    0\n",
      "14    0\n",
      "15    0\n",
      "16    0\n",
      "17    0\n",
      "18    0\n",
      "19    0\n",
      "Name: actual, dtype: int64\n",
      "0     1\n",
      "1     0\n",
      "2     0\n",
      "3     0\n",
      "4     0\n",
      "5     0\n",
      "6     0\n",
      "7     0\n",
      "8     0\n",
      "9     0\n",
      "10    0\n",
      "11    0\n",
      "12    0\n",
      "13    0\n",
      "14    0\n",
      "15    0\n",
      "16    0\n",
      "17    0\n",
      "Name: actual, dtype: int64\n",
      "0     1\n",
      "1     0\n",
      "2     0\n",
      "3     0\n",
      "4     0\n",
      "5     0\n",
      "6     0\n",
      "7     0\n",
      "8     0\n",
      "9     0\n",
      "10    0\n",
      "11    0\n",
      "12    0\n",
      "13    0\n",
      "14    0\n",
      "15    0\n",
      "16    0\n",
      "17    0\n",
      "18    0\n",
      "19    0\n",
      "Name: actual, dtype: int64\n",
      "0     0\n",
      "1     1\n",
      "2     0\n",
      "3     0\n",
      "4     0\n",
      "5     0\n",
      "6     0\n",
      "7     0\n",
      "8     0\n",
      "9     0\n",
      "10    0\n",
      "11    0\n",
      "12    0\n",
      "13    0\n",
      "14    0\n",
      "15    0\n",
      "16    0\n",
      "17    0\n",
      "Name: actual, dtype: int64\n",
      "0     0\n",
      "1     1\n",
      "2     0\n",
      "3     0\n",
      "4     0\n",
      "5     0\n",
      "6     0\n",
      "7     0\n",
      "8     0\n",
      "9     0\n",
      "10    0\n",
      "11    0\n",
      "12    0\n",
      "13    0\n",
      "14    0\n",
      "15    0\n",
      "16    0\n",
      "17    0\n",
      "18    0\n",
      "19    0\n",
      "Name: actual, dtype: int64\n",
      "0     0\n",
      "1     0\n",
      "2     0\n",
      "3     1\n",
      "4     0\n",
      "5     0\n",
      "6     0\n",
      "7     0\n",
      "8     0\n",
      "9     0\n",
      "10    0\n",
      "11    0\n",
      "12    0\n",
      "13    0\n",
      "14    0\n",
      "15    0\n",
      "16    0\n",
      "17    0\n",
      "Name: actual, dtype: int64\n",
      "0     0\n",
      "1     0\n",
      "2     1\n",
      "3     0\n",
      "4     0\n",
      "5     0\n",
      "6     0\n",
      "7     0\n",
      "8     0\n",
      "9     0\n",
      "10    0\n",
      "11    0\n",
      "12    0\n",
      "13    0\n",
      "14    0\n",
      "15    0\n",
      "Name: actual, dtype: int64\n",
      "0     0\n",
      "1     0\n",
      "2     0\n",
      "3     1\n",
      "4     0\n",
      "5     0\n",
      "6     0\n",
      "7     0\n",
      "8     0\n",
      "9     0\n",
      "10    0\n",
      "11    0\n",
      "12    0\n",
      "13    0\n",
      "14    0\n",
      "15    0\n",
      "16    0\n",
      "17    0\n",
      "18    0\n",
      "Name: actual, dtype: int64\n",
      "0     1\n",
      "1     0\n",
      "2     0\n",
      "3     0\n",
      "4     0\n",
      "5     0\n",
      "6     0\n",
      "7     0\n",
      "8     0\n",
      "9     0\n",
      "10    0\n",
      "11    0\n",
      "12    0\n",
      "13    0\n",
      "14    0\n",
      "15    0\n",
      "16    0\n",
      "17    0\n",
      "Name: actual, dtype: int64\n",
      "0     0\n",
      "1     0\n",
      "2     0\n",
      "3     1\n",
      "4     0\n",
      "5     0\n",
      "6     0\n",
      "7     0\n",
      "8     0\n",
      "9     0\n",
      "10    0\n",
      "11    0\n",
      "12    0\n",
      "13    0\n",
      "14    0\n",
      "15    0\n",
      "16    0\n",
      "17    0\n",
      "Name: actual, dtype: int64\n",
      "0     1\n",
      "1     0\n",
      "2     0\n",
      "3     0\n",
      "4     0\n",
      "5     0\n",
      "6     0\n",
      "7     0\n",
      "8     0\n",
      "9     0\n",
      "10    0\n",
      "11    0\n",
      "12    0\n",
      "13    0\n",
      "14    0\n",
      "15    0\n",
      "16    0\n",
      "17    0\n",
      "18    0\n",
      "19    0\n",
      "Name: actual, dtype: int64\n",
      "0     1\n",
      "1     0\n",
      "2     0\n",
      "3     0\n",
      "4     0\n",
      "5     0\n",
      "6     0\n",
      "7     0\n",
      "8     0\n",
      "9     0\n",
      "10    0\n",
      "11    0\n",
      "12    0\n",
      "13    0\n",
      "14    0\n",
      "15    0\n",
      "16    0\n",
      "17    0\n",
      "18    0\n",
      "Name: actual, dtype: int64\n",
      "0     1\n",
      "1     0\n",
      "2     0\n",
      "3     0\n",
      "4     0\n",
      "5     0\n",
      "6     0\n",
      "7     0\n",
      "8     0\n",
      "9     0\n",
      "10    0\n",
      "11    0\n",
      "12    0\n",
      "13    0\n",
      "14    0\n",
      "15    0\n",
      "16    0\n",
      "17    0\n",
      "18    0\n",
      "Name: actual, dtype: int64\n",
      "0     1\n",
      "1     0\n",
      "2     0\n",
      "3     0\n",
      "4     0\n",
      "5     0\n",
      "6     0\n",
      "7     0\n",
      "8     0\n",
      "9     0\n",
      "10    0\n",
      "11    0\n",
      "12    0\n",
      "13    0\n",
      "14    0\n",
      "15    0\n",
      "16    0\n",
      "17    0\n",
      "18    0\n",
      "19    0\n",
      "Name: actual, dtype: int64\n"
     ]
    }
   ],
   "source": [
    "\n",
    "df.podium = df.podium.map(lambda x: 1 if x == 1 else 0)\n",
    "\n",
    "#split train\n",
    "\n",
    "train = df[df.season <2019]\n",
    "X_train = train.drop(['driver', 'podium'], axis = 1)\n",
    "y_train = train.podium\n",
    "\n",
    "scaler = StandardScaler()\n",
    "X_train = pd.DataFrame(scaler.fit_transform(X_train), columns = X_train.columns)\n",
    "\n",
    "# scoring function for classification\n",
    "def score_classification(model):\n",
    "    score = 0\n",
    "    for circuit in df[df.season == 2019]['round'].unique():\n",
    "\n",
    "        test = df[(df.season == 2019) & (df['round'] == circuit)]\n",
    "        X_test = test.drop(['driver', 'podium'], axis = 1)\n",
    "        y_test = test.podium\n",
    "\n",
    "        #scaling\n",
    "        X_test = pd.DataFrame(scaler.transform(X_test), columns = X_test.columns)\n",
    "\n",
    "        # make predictions\n",
    "        prediction_df = pd.DataFrame(model.predict_proba(X_test), columns = ['proba_0', 'proba_1'])\n",
    "        prediction_df['actual'] = y_test.reset_index(drop = True)\n",
    "        prediction_df.sort_values('proba_1', ascending = False, inplace = True)\n",
    "        prediction_df.reset_index(inplace = True, drop = True)\n",
    "        prediction_df['predicted'] = prediction_df.index\n",
    "        prediction_df['predicted'] = prediction_df.predicted.map(lambda x: 1 if x == 0 else 0)\n",
    "        print(prediction_df.actual)\n",
    "        score += precision_score(prediction_df.actual, prediction_df.predicted)\n",
    "\n",
    "        \n",
    "\n",
    "    model_score = score / df[df.season == 2019]['round'].unique().max()\n",
    "        \n",
    "    return model_score\n",
    "# gridsearch dictionary\n",
    "\n",
    "comparison_dict ={'model':[],\n",
    "                  'params': [],\n",
    "                  'score': []}\n",
    "\n",
    "# Logistic Regression\n",
    "\n",
    "# params={'penalty': ['l1', 'l2'],\n",
    "#         'solver': ['saga', 'liblinear'],\n",
    "#         'C': np.logspace(-3,1,20)}\n",
    "\n",
    "# for penalty in params['penalty']:\n",
    "#     for solver in params['solver']:\n",
    "#         for c in params['C']:\n",
    "#             model_params = (penalty, solver, c)\n",
    "#             model = LogisticRegression(penalty = penalty, solver = solver, C = c, max_iter = 10000)\n",
    "#             model.fit(X_train, y_train)\n",
    "            \n",
    "#             model_score = score_classification(model)\n",
    "            \n",
    "#             comparison_dict['model'].append('logistic_regression')\n",
    "#             comparison_dict['params'].append(model_params)\n",
    "#             comparison_dict['score'].append(model_score)\n",
    "\n",
    "# # Random Forest Classifier\n",
    "\n",
    "# params={'criterion': ['gini', 'entropy'],\n",
    "#         'max_features': [0.8, 'auto', None],\n",
    "#         'max_depth': list(np.linspace(5, 55, 26)) + [None]}\n",
    "\n",
    "# for criterion in params['criterion']:\n",
    "#     for max_features in params['max_features']:\n",
    "#         for max_depth in params['max_depth']:\n",
    "#             model_params = (criterion, max_features, max_depth)\n",
    "#             model = RandomForestClassifier(criterion = criterion, max_features = max_features, max_depth = max_depth)\n",
    "#             model.fit(X_train, y_train)\n",
    "            \n",
    "#             model_score = score_classification(model)\n",
    "            \n",
    "#             comparison_dict['model'].append('random_forest_classifier')\n",
    "#             comparison_dict['params'].append(model_params)\n",
    "#             comparison_dict['score'].append(model_score)\n",
    "\n",
    "# Support Vector Machines\n",
    "\n",
    "# params={'gamma': np.logspace(-4, -1, 20),\n",
    "#         'C': np.logspace(-2, 1, 20),\n",
    "#         'kernel': ['linear', 'poly', 'rbf', 'sigmoid']} \n",
    "\n",
    "# for gamma in params['gamma']:\n",
    "#     for c in params['C']:\n",
    "#         for kernel in params['kernel']:\n",
    "#             model_params = (gamma, c, kernel)\n",
    "#             model = svm.SVC(probability = True, gamma = gamma, C = c, kernel = kernel )\n",
    "#             model.fit(X_train, y_train)\n",
    "            \n",
    "#             model_score = score_classification(model)\n",
    "            \n",
    "#             comparison_dict['model'].append('svm_classifier')\n",
    "#             comparison_dict['params'].append(model_params)\n",
    "#             comparison_dict['score'].append(model_score)\n",
    "\n",
    "# Neural network\n",
    "\n",
    "# params={'hidden_layer_sizes': [(80,20,40,5), (75,25,50,10)], \n",
    "#         'activation': ['identity', 'logistic', 'tanh', 'relu'], \n",
    "#         'solver': ['lbfgs', 'sgd', 'adam', 'logistic'], \n",
    "#         'alpha': np.logspace(-4,2,20)} \n",
    "\n",
    "# for hidden_layer_sizes in params['hidden_layer_sizes']:\n",
    "#     for activation in params['activation']:\n",
    "#         for solver in params['solver']:\n",
    "#             for alpha in params['alpha']:\n",
    "#                 model_params = (hidden_layer_sizes, activation, solver, alpha )\n",
    "#                 model = MLPClassifier(hidden_layer_sizes = hidden_layer_sizes,\n",
    "#                                       activation = activation, solver = solver, alpha = alpha, random_state = 1)\n",
    "#                 model.fit(X_train, y_train)\n",
    "\n",
    "#                 model_score = score_classification(model)\n",
    "\n",
    "#                 comparison_dict['model'].append('neural_network_classifier')\n",
    "#                 comparison_dict['params'].append(model_params)\n",
    "#                 comparison_dict['score'].append(model_score)\n",
    "params ={'hidden_layer_sizes':[(75,25,50,10)],\n",
    "    'activation': ['identity'],\n",
    "    'solver':['lbfgs'],\n",
    "    'alpha': [0.016]}\n",
    "\n",
    "for hidden_layer_sizes in params['hidden_layer_sizes']:\n",
    "    for activation in params['activation']:\n",
    "        for solver in params['solver']:\n",
    "            for alpha in params['alpha']:\n",
    "                model_params = (hidden_layer_sizes, activation, solver, alpha )\n",
    "                model = MLPClassifier(hidden_layer_sizes = hidden_layer_sizes,\n",
    "                                      activation = activation, solver = solver, alpha = alpha, random_state = 1)\n",
    "                model.fit(X_train, y_train)\n",
    "\n",
    "                model_score = score_classification(model)\n",
    "\n",
    "                comparison_dict['model'].append('neural_network_classifier')\n",
    "                comparison_dict['params'].append(model_params)\n",
    "                comparison_dict['score'].append(model_score)\n",
    "            "
   ]
  },
  {
   "cell_type": "code",
   "execution_count": 17,
   "metadata": {},
   "outputs": [
    {
     "data": {
      "text/plain": [
       "MLPClassifier(activation='identity', alpha=0.016,\n",
       "              hidden_layer_sizes=(75, 25, 50, 10), random_state=1,\n",
       "              solver='lbfgs')"
      ]
     },
     "execution_count": 17,
     "metadata": {},
     "output_type": "execute_result"
    }
   ],
   "source": [
    "comparison_dict\n",
    "model"
   ]
  },
  {
   "cell_type": "code",
   "execution_count": 22,
   "metadata": {},
   "outputs": [
    {
     "ename": "NameError",
     "evalue": "name 'prediction_df' is not defined",
     "output_type": "error",
     "traceback": [
      "\u001b[1;31m---------------------------------------------------------------------------\u001b[0m",
      "\u001b[1;31mNameError\u001b[0m                                 Traceback (most recent call last)",
      "\u001b[1;32m~\\AppData\\Local\\Temp/ipykernel_16132/127562068.py\u001b[0m in \u001b[0;36m<module>\u001b[1;34m\u001b[0m\n\u001b[1;32m----> 1\u001b[1;33m \u001b[0mprediction_df\u001b[0m\u001b[1;33m.\u001b[0m\u001b[0mpredicted\u001b[0m\u001b[1;33m\u001b[0m\u001b[1;33m\u001b[0m\u001b[0m\n\u001b[0m",
      "\u001b[1;31mNameError\u001b[0m: name 'prediction_df' is not defined"
     ]
    }
   ],
   "source": []
  },
  {
   "cell_type": "code",
   "execution_count": null,
   "metadata": {},
   "outputs": [],
   "source": []
  },
  {
   "cell_type": "code",
   "execution_count": null,
   "metadata": {},
   "outputs": [],
   "source": []
  },
  {
   "cell_type": "code",
   "execution_count": null,
   "metadata": {},
   "outputs": [],
   "source": []
  },
  {
   "cell_type": "code",
   "execution_count": null,
   "metadata": {},
   "outputs": [],
   "source": []
  },
  {
   "cell_type": "code",
   "execution_count": null,
   "metadata": {},
   "outputs": [],
   "source": []
  },
  {
   "cell_type": "code",
   "execution_count": null,
   "metadata": {},
   "outputs": [],
   "source": []
  },
  {
   "cell_type": "code",
   "execution_count": null,
   "metadata": {},
   "outputs": [],
   "source": []
  },
  {
   "cell_type": "code",
   "execution_count": null,
   "metadata": {},
   "outputs": [],
   "source": []
  },
  {
   "cell_type": "code",
   "execution_count": null,
   "metadata": {},
   "outputs": [],
   "source": []
  },
  {
   "cell_type": "code",
   "execution_count": null,
   "metadata": {},
   "outputs": [],
   "source": []
  },
  {
   "cell_type": "code",
   "execution_count": null,
   "metadata": {},
   "outputs": [],
   "source": []
  },
  {
   "cell_type": "code",
   "execution_count": null,
   "metadata": {},
   "outputs": [],
   "source": []
  },
  {
   "cell_type": "code",
   "execution_count": null,
   "metadata": {},
   "outputs": [],
   "source": []
  },
  {
   "cell_type": "code",
   "execution_count": null,
   "metadata": {},
   "outputs": [],
   "source": []
  },
  {
   "cell_type": "code",
   "execution_count": null,
   "metadata": {},
   "outputs": [],
   "source": []
  },
  {
   "cell_type": "code",
   "execution_count": null,
   "metadata": {},
   "outputs": [],
   "source": []
  },
  {
   "cell_type": "code",
   "execution_count": null,
   "metadata": {},
   "outputs": [],
   "source": []
  },
  {
   "cell_type": "code",
   "execution_count": null,
   "metadata": {},
   "outputs": [],
   "source": []
  },
  {
   "cell_type": "code",
   "execution_count": null,
   "metadata": {},
   "outputs": [],
   "source": []
  },
  {
   "cell_type": "code",
   "execution_count": null,
   "metadata": {},
   "outputs": [],
   "source": []
  },
  {
   "cell_type": "code",
   "execution_count": null,
   "metadata": {},
   "outputs": [],
   "source": []
  },
  {
   "cell_type": "code",
   "execution_count": null,
   "metadata": {},
   "outputs": [],
   "source": []
  }
 ],
 "metadata": {
  "kernelspec": {
   "display_name": "Python 3.9.7 64-bit",
   "language": "python",
   "name": "python3"
  },
  "language_info": {
   "codemirror_mode": {
    "name": "ipython",
    "version": 3
   },
   "file_extension": ".py",
   "mimetype": "text/x-python",
   "name": "python",
   "nbconvert_exporter": "python",
   "pygments_lexer": "ipython3",
   "version": "3.9.7"
  },
  "orig_nbformat": 4,
  "vscode": {
   "interpreter": {
    "hash": "a60b1f65089e4fafae96d875576c746fb8c991f7fb219186d6ec8b00a3bfad9a"
   }
  }
 },
 "nbformat": 4,
 "nbformat_minor": 2
}
